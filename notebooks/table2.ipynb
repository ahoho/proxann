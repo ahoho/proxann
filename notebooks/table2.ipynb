{
 "cells": [
  {
   "cell_type": "code",
   "execution_count": 2,
   "metadata": {},
   "outputs": [],
   "source": [
    "import pandas as pd\n",
    "import sys\n",
    "sys.path.append(\"..\")\n",
    "\n",
    "from src.llm_eval.utils import process_responses, collect_fit_rank_data, compute_correlations_one"
   ]
  },
  {
   "cell_type": "code",
   "execution_count": 77,
   "metadata": {},
   "outputs": [],
   "source": [
    "llm_data_paths = {\n",
    "    \"wiki\": {\n",
    "        \"gpt4o\": \"../data/llm_out/wiki/q1_then_q3_dspy,q1_then_q2_dspy_gpt-4o-mini-2024-07-18_20241213_135628\",\n",
    "        \"llama3.1\": \"../data/llm_out/wiki/q1_then_q3_dspy,q1_then_q2_dspy_llama3.1:8b-instruct-q8_0_20241213_135530\"\n",
    "    },\n",
    "    \"bills\": {\n",
    "        \"gpt4o\": \"../data/llm_out/bills/q1_then_q3_dspy,q1_then_q2_dspy_gpt-4o-mini-2024-07-18_20241213_141345\",\n",
    "        \"llama3.1\": \"../data/llm_out/bills/q1_then_q3_dspy,q1_then_q2_dspy_llama3.1:8b-instruct-q8_0_20241213_133218\"\n",
    "    }\n",
    "}\n",
    "\n",
    "data_jsons = [\n",
    "    \"../data/json_out/config_pilot_wiki.json\",\n",
    "    \"../data/json_out/config_pilot_wiki_part2.json\",\n",
    "    #\"../data/json_out/config_bills_part1.json\"\n",
    "]\n",
    "\n",
    "response_csvs = [\n",
    "   # \"../data/human_annotations/Cluster+Evaluation+-+Sort+and+Rank+-+Bills_December+14,+2024_03.35.csv\",\n",
    "    \"../data/human_annotations/Cluster+Evaluation+-+Sort+and+Rank_December+12,+2024_05.19.csv\",\n",
    "]\n",
    "\n",
    "start_date = \"2024-12-06 09:00:00\""
   ]
  },
  {
   "cell_type": "code",
   "execution_count": 78,
   "metadata": {},
   "outputs": [
    {
     "name": "stdout",
     "output_type": "stream",
     "text": [
      "Total responses: 142\n",
      "Total responses: 142\n",
      "Removed: 25\n"
     ]
    }
   ],
   "source": [
    "responses = {}\n",
    "for csv in response_csvs:\n",
    "    for topic_id, topic_responses in process_responses(csv, data_jsons, start_date=start_date, path_save=None, removal_condition=\"loose\").items():\n",
    "        if topic_responses:\n",
    "            responses[topic_id] = topic_responses"
   ]
  },
  {
   "cell_type": "code",
   "execution_count": 81,
   "metadata": {},
   "outputs": [
    {
     "data": {
      "text/html": [
       "<div>\n",
       "<style scoped>\n",
       "    .dataframe tbody tr th:only-of-type {\n",
       "        vertical-align: middle;\n",
       "    }\n",
       "\n",
       "    .dataframe tbody tr th {\n",
       "        vertical-align: top;\n",
       "    }\n",
       "\n",
       "    .dataframe thead th {\n",
       "        text-align: right;\n",
       "    }\n",
       "</style>\n",
       "<table border=\"1\" class=\"dataframe\">\n",
       "  <thead>\n",
       "    <tr style=\"text-align: right;\">\n",
       "      <th></th>\n",
       "      <th>id</th>\n",
       "      <th>model</th>\n",
       "      <th>labels</th>\n",
       "      <th>user_cats</th>\n",
       "      <th>top_wrds</th>\n",
       "    </tr>\n",
       "  </thead>\n",
       "  <tbody>\n",
       "    <tr>\n",
       "      <th>6</th>\n",
       "      <td>wikitext-labeled/bertopic/7</td>\n",
       "      <td>bertopic</td>\n",
       "      <td>Sports and Athletics</td>\n",
       "      <td>[Professional Basketball and Baseball Players,...</td>\n",
       "      <td>yard season team yards league</td>\n",
       "    </tr>\n",
       "    <tr>\n",
       "      <th>11</th>\n",
       "      <td>wikitext-labeled/ctm/2</td>\n",
       "      <td>ctm</td>\n",
       "      <td>Major League Baseball Players and Achievements</td>\n",
       "      <td>[Former MLB players, American baseball league,...</td>\n",
       "      <td>career hit games season league</td>\n",
       "    </tr>\n",
       "    <tr>\n",
       "      <th>21</th>\n",
       "      <td>wikitext-labeled/mallet/44</td>\n",
       "      <td>mallet</td>\n",
       "      <td>Major League Baseball Players and History</td>\n",
       "      <td>[Professional baseball players, American profe...</td>\n",
       "      <td>season game games home runs</td>\n",
       "    </tr>\n",
       "  </tbody>\n",
       "</table>\n",
       "</div>"
      ],
      "text/plain": [
       "                             id     model  \\\n",
       "6   wikitext-labeled/bertopic/7  bertopic   \n",
       "11       wikitext-labeled/ctm/2       ctm   \n",
       "21   wikitext-labeled/mallet/44    mallet   \n",
       "\n",
       "                                            labels  \\\n",
       "6                             Sports and Athletics   \n",
       "11  Major League Baseball Players and Achievements   \n",
       "21       Major League Baseball Players and History   \n",
       "\n",
       "                                            user_cats  \\\n",
       "6   [Professional Basketball and Baseball Players,...   \n",
       "11  [Former MLB players, American baseball league,...   \n",
       "21  [Professional baseball players, American profe...   \n",
       "\n",
       "                          top_wrds  \n",
       "6    yard season team yards league  \n",
       "11  career hit games season league  \n",
       "21     season game games home runs  "
      ]
     },
     "execution_count": 81,
     "metadata": {},
     "output_type": "execute_result"
    }
   ],
   "source": [
    "dataset = \"wiki\"\n",
    "model = \"gpt4o\"\n",
    "topic_model = \"mallet\"\n",
    "path = llm_data_paths[dataset][model]\n",
    "\n",
    "q1_data = pd.read_json(f\"{path}/llm_results_q2.json\").to_dict(orient=\"records\")\n",
    "q1_data_df = pd.DataFrame(q1_data)\n",
    "q1_data_df[\"labels\"] = q1_data_df[\"labels\"].apply(lambda x: x[0])\n",
    "q1_data_df[\"user_cats\"] = q1_data_df[\"id\"].apply(\n",
    "    lambda x: [r[\"category\"] for r in responses[x]] if x in responses else []\n",
    ")\n",
    "\n",
    "q1_data_df[\"top_wrds\"] = q1_data_df[\"id\"].apply(lambda x: \" \".join(responses[x][0][\"topic_words\"][:5]))\n",
    "q1_data_df = q1_data_df[(q1_data_df.id == \"wikitext-labeled/mallet/44\") | (q1_data_df.id == \"wikitext-labeled/ctm/2\") | (q1_data_df.id == \"wikitext-labeled/bertopic/7\")]\n",
    "#q1_data_df = q1_data_df[(q1_data_df.id == \"bills-labeled/mallet/4\") | (q1_data_df.id == \"bills-labeled/ctm/30\") | (q1_data_df.id == \"bills-labeled/bertopic/40\")]\n",
    "q1_data_df[[\"id\", \"model\", \"labels\", \"user_cats\", \"top_wrds\"]]"
   ]
  },
  {
   "cell_type": "code",
   "execution_count": 84,
   "metadata": {},
   "outputs": [
    {
     "data": {
      "text/plain": [
       "['Professional Basketball and Baseball Players',\n",
       " 'American sports and their associated famous sportsmen',\n",
       " 'Sports champions',\n",
       " 'American sports history']"
      ]
     },
     "execution_count": 84,
     "metadata": {},
     "output_type": "execute_result"
    }
   ],
   "source": [
    "q1_data_df[[\"id\", \"model\", \"labels\", \"user_cats\", \"top_wrds\"]].iloc[0].user_cats"
   ]
  },
  {
   "cell_type": "code",
   "execution_count": null,
   "metadata": {},
   "outputs": [],
   "source": [
    "# BILLS\n",
    "#Sampled Matches (Original Topic IDs): \n",
    "# [[(0, 4), (1, 30), (2, 40)], \n",
    "# [(0, 40), (1, 3), (2, 1)], [(0, 23), (1, 18), (2, 18)], [(0, 12), (1, 27), (2, 31)], [(0, 19), (1, 34), (2, 3)], [(0, 44), (1, 23), (2, 27)], [(0, 1), (1, 28), (2, 13)], [(0, 17), (1, 11), (2, 19)]]\n",
    "\n",
    "# WIKI\n",
    "#Sampled Matches (Original Topic IDs):\n",
    "# [[(0, 16), (1, 35), (2, 47)],\n",
    "# [(0, 44), (1, 2), (2, 7)], \n",
    "# [(0, 49), (1, 1), (2, 8)], [(0, 38), (1, 3), (2, 36)]]"
   ]
  },
  {
   "cell_type": "code",
   "execution_count": 3,
   "metadata": {},
   "outputs": [
    {
     "name": "stdout",
     "output_type": "stream",
     "text": [
      "\n",
      "\n",
      "Dataset: bills\n",
      "Mallet:\n",
      "npmi    0.070198\n",
      "cv      0.520695\n",
      "dtype: float64\n",
      "\n",
      " CTM:\n",
      "npmi    0.106991\n",
      "cv      0.670567\n",
      "dtype: float64\n",
      "\n",
      "BERTopic:\n",
      "npmi    0.071326\n",
      "cv      0.554651\n",
      "dtype: float64\n",
      "##################################################\n",
      "\n",
      "\n",
      "Dataset: wiki\n",
      "Mallet:\n",
      "npmi    0.125730\n",
      "cv      0.686326\n",
      "dtype: float64\n",
      "\n",
      " CTM:\n",
      "npmi    0.134351\n",
      "cv      0.709896\n",
      "dtype: float64\n",
      "\n",
      "BERTopic:\n",
      "npmi    0.150289\n",
      "cv      0.751968\n",
      "dtype: float64\n",
      "##################################################\n"
     ]
    }
   ],
   "source": [
    "all_df_cohr = pd.concat([pd.read_csv(\"../data/all_cohrs_bills.csv\"), pd.read_csv(\"../data/all_cohrs_wiki.csv\")])\n",
    "\n",
    "for dtset in [\"bills\", \"wiki\"]:\n",
    "    print(f\"\\n\\nDataset: {dtset}\")\n",
    "    \n",
    "    df_cohr = all_df_cohr[all_df_cohr[\"id\"].str.contains(dtset)]\n",
    "\n",
    "    df_cohr_mallet = df_cohr[df_cohr[\"id\"].str.contains(\"mallet\")]\n",
    "    df_cohr_ctm = df_cohr[df_cohr[\"id\"].str.contains(\"ctm\")]\n",
    "    df_cohr_bertopic = df_cohr[df_cohr[\"id\"].str.contains(\"bertopic\")]\n",
    "\n",
    "    mean_mallet = df_cohr_mallet.drop(columns=[\"id\"]).mean()\n",
    "    mean_ctm = df_cohr_ctm.drop(columns=[\"id\"]).mean()\n",
    "    mean_bertopic = df_cohr_bertopic.drop(columns=[\"id\"]).mean()\n",
    "\n",
    "    # Imprimir las medias\n",
    "    print(\"Mallet:\")\n",
    "    print(mean_mallet)\n",
    "    print(\"\\n CTM:\")\n",
    "    print(mean_ctm)\n",
    "    print(\"\\nBERTopic:\")\n",
    "    print(mean_bertopic)\n",
    "    \n",
    "    print(\"#\"*50)\n"
   ]
  }
 ],
 "metadata": {
  "kernelspec": {
   "display_name": ".venv",
   "language": "python",
   "name": "python3"
  },
  "language_info": {
   "codemirror_mode": {
    "name": "ipython",
    "version": 3
   },
   "file_extension": ".py",
   "mimetype": "text/x-python",
   "name": "python",
   "nbconvert_exporter": "python",
   "pygments_lexer": "ipython3",
   "version": "3.12.2"
  }
 },
 "nbformat": 4,
 "nbformat_minor": 2
}
