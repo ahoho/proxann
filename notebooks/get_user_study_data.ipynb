{
 "cells": [
  {
   "cell_type": "code",
   "execution_count": 29,
   "id": "7d24e074-b1cf-41b6-9c70-ab99a856d108",
   "metadata": {},
   "outputs": [],
   "source": [
    "import pathlib\n",
    "import pandas as pd\n",
    "import sys\n",
    "import os\n",
    "import json\n",
    "import numpy as np\n",
    "sys.path.append(os.path.abspath(os.path.join(os.getcwd(), '..')))\n",
    "\n",
    "from src.utils.utils import file_lines, get_embeddings_from_str\n",
    "from src.llm_eval.utils import load_config_pilot"
   ]
  },
  {
   "cell_type": "code",
   "execution_count": 8,
   "id": "fb8be576-a7fc-404c-925d-9756ff333c60",
   "metadata": {},
   "outputs": [],
   "source": [
    "config_path = \"/export/usuarios_ml4ds/lbartolome/Repos/umd/theta-evaluation/data/files_pilot/config_first_round.json,/export/usuarios_ml4ds/lbartolome/Repos/umd/theta-evaluation/data/files_pilot/config_second_round.json\"\n",
    "config_pilot = load_config_pilot(config_path)"
   ]
  },
  {
   "cell_type": "code",
   "execution_count": 17,
   "id": "c30602cd-b783-481f-8642-7349eb76f07e",
   "metadata": {},
   "outputs": [
    {
     "data": {
      "text/plain": [
       "'american, war, governor, state, virginia, washington, new_york, massachusetts, united_states, boston, smith, land, colony, kentucky, president, grant, union, new, civil, americans, lincoln, congress, began, early, slavery, indiana, native, colonial, white, general, served, government, known, later, texas, years, slaves, indian, southern, states, established, indians, maryland, territory, military, philadelphia, men, time, house, connecticut, pennsylvania, confederate, african, fort, continued, black, florida, political, slave, south, settlers, treaty, colonies, ohio, following, hamilton, missouri, trade, new_england, including, major, lieutenant, present, georgia, illinois, died, wrote, called, day, west_virginia, rhode_island, eventually, appointed, refused, town, led, west, settlement, included, railroad, members, legislature, great, area, parsons, british, elected, took, mississippi, secretary'"
      ]
     },
     "execution_count": 17,
     "metadata": {},
     "output_type": "execute_result"
    }
   ],
   "source": [
    "\", \".join(config_pilot[\"data/models/mallet\"][\"32\"][\"topic_words\"])"
   ]
  },
  {
   "cell_type": "code",
   "execution_count": 46,
   "id": "3161c7ed-4f17-47e3-bb2b-11f7dca56bd9",
   "metadata": {},
   "outputs": [
    {
     "data": {
      "text/plain": [
       "'member served elected governor committee serving worked election appointed kentucky married resigned attended born fellow legislature term opposed president massachusetts politics died secretary commission virginia admitted serve chairman votes tenure professor graduated candidate politician education buried attorney retirement helped honor seat degree chosen judge republican vote assistant wife senate democratic prominent union political studied legacy lived practice bill mayor rank board lieutenant deputy lawyer estate majority efforts senator honorary taught retired survived resign vice congress health administration post legislation appointment session delegate west_virginia voted sought refused jones opposition representing candidates daughter reform enrolled democrat master interred graduating establishing parsons attending'"
      ]
     },
     "execution_count": 46,
     "metadata": {},
     "output_type": "execute_result"
    }
   ],
   "source": [
    "\" \".join(config_pilot[\"data/models/ctm\"][\"34\"][\"topic_words\"])"
   ]
  },
  {
   "cell_type": "code",
   "execution_count": 51,
   "id": "bd7e5669-5e55-4197-81f4-07767716326b",
   "metadata": {},
   "outputs": [
    {
     "data": {
      "text/plain": [
       "[32, 20, 40, 34, 8, 47]"
      ]
     },
     "execution_count": 51,
     "metadata": {},
     "output_type": "execute_result"
    }
   ],
   "source": [
    "topics_mallet = [int(el) for el in config_pilot[\"data/models/mallet\"].keys()]\n",
    "topics_ctm = [int(el) for el in config_pilot[\"data/models/ctm\"].keys()]\n",
    "topics_mallet"
   ]
  },
  {
   "cell_type": "code",
   "execution_count": 47,
   "id": "b197751b-f4f2-407d-b681-b75a4d3743dc",
   "metadata": {},
   "outputs": [],
   "source": [
    "#### wikipedia\n",
    "ctm = \"/export/usuarios_ml4ds/lbartolome/Repos/umd/theta-evaluation/data/models/final_models/model-runs/wikitext-labeled/vocab_15k/k-50/ctm/sbert_multiqa_mpnet-lr_0.002-epochs_200-learn_priors/159\"\n",
    "mallet = \"/export/usuarios_ml4ds/lbartolome/Repos/umd/theta-evaluation/data/models/final_models/model-runs/wikitext-labeled/vocab_15k/k-50/mallet/alpha_1.0-beta_0.05-iter_2000-opt_10/159\""
   ]
  },
  {
   "cell_type": "code",
   "execution_count": 48,
   "id": "723b72fa-2f4f-4366-ad96-cc8d9e168567",
   "metadata": {},
   "outputs": [],
   "source": [
    "vocab_path = \"/export/usuarios_ml4ds/lbartolome/Repos/umd/theta-evaluation/data/training_data/wiki/vocab.json\"\n",
    "top_words_display = 100"
   ]
  },
  {
   "cell_type": "code",
   "execution_count": 50,
   "id": "36970794-f0bd-4dd6-a972-973c7e383c03",
   "metadata": {},
   "outputs": [
    {
     "data": {
      "text/plain": [
       "'member, served, elected, governor, committee, serving, worked, election, appointed, kentucky, married, resigned, attended, born, fellow, legislature, term, opposed, president, massachusetts, politics, died, secretary, commission, virginia, admitted, serve, chairman, votes, tenure, professor, graduated, candidate, politician, education, buried, attorney, retirement, helped, honor, seat, degree, chosen, judge, republican, vote, assistant, wife, senate, democratic, prominent, union, political, studied, legacy, lived, practice, bill, mayor, rank, board, lieutenant, deputy, lawyer, estate, majority, efforts, senator, honorary, taught, retired, survived, resign, vice, congress, health, administration, post, legislation, appointment, session, delegate, west_virginia, voted, sought, refused, jones, opposition, representing, candidates, daughter, reform, enrolled, democrat, master, interred, graduating, establishing, parsons, attending'"
      ]
     },
     "execution_count": 50,
     "metadata": {},
     "output_type": "execute_result"
    }
   ],
   "source": [
    "with open(vocab_path) as infile:\n",
    "    vocab_w2id = json.load(infile)\n",
    "vocab_id2w = dict(zip(vocab_w2id.values(), vocab_w2id.keys()))\n",
    "betas = np.load(ctm + \"/beta.npy\")\n",
    "\n",
    "keys = [\n",
    "    [vocab_id2w[idx] for idx in row.argsort()[::-1][:top_words_display]]  # Fix the slice\n",
    "    for row in betas\n",
    "]\n",
    "\", \".join(keys[34])"
   ]
  }
 ],
 "metadata": {
  "kernelspec": {
   "display_name": "prueba",
   "language": "python",
   "name": "prueba"
  },
  "language_info": {
   "codemirror_mode": {
    "name": "ipython",
    "version": 3
   },
   "file_extension": ".py",
   "mimetype": "text/x-python",
   "name": "python",
   "nbconvert_exporter": "python",
   "pygments_lexer": "ipython3",
   "version": "3.10.9"
  }
 },
 "nbformat": 4,
 "nbformat_minor": 5
}
