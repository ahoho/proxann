{
 "cells": [
  {
   "cell_type": "code",
   "execution_count": 1,
   "metadata": {},
   "outputs": [],
   "source": [
    "# Matches: [(39, 46), (3, 6)]"
   ]
  },
  {
   "cell_type": "code",
   "execution_count": 2,
   "metadata": {},
   "outputs": [],
   "source": [
    "import pathlib\n",
    "path_mallet =  \"/Volumes/usuarios_ml4ds/lbartolome/Repos/umd/theta-evaluation/data/models/mallet\"\n",
    "path_ctm =  \"//Volumes/usuarios_ml4ds/lbartolome/Repos/umd/theta-evaluation/data/models/ctm\"\n",
    "\n",
    "\n",
    "with (pathlib.Path(path_mallet) / \"topics.txt\").open('r', encoding='utf8') as fin:\n",
    "    topics_keys_mallet = [el.strip() for el in fin.readlines()]\n",
    "    \n",
    "with (pathlib.Path(path_ctm) / \"topics.txt\").open('r', encoding='utf8') as fin:\n",
    "    topics_keys_ctm = [el.strip() for el in fin.readlines()]"
   ]
  },
  {
   "cell_type": "code",
   "execution_count": 3,
   "metadata": {},
   "outputs": [
    {
     "name": "stdout",
     "output_type": "stream",
     "text": [
      "said like time people way called day wrote man life good saying stated felt going described wanted thought think little know don great told right noted want later place old according having gave point come things asked got came lot end long work away world found went story didn look\n",
      "production system crew mission use development based high million aircraft engine control announced new flight launch including spacecraft range program speed time nasa vehicle apollo missions sales fuel ground air lunar market low project moon performance twitter launched landing pilot developed car flights engines cost version available models orbit designed weapons level hours saturn technology vehicles toyota began capability june manned march service testing missile altitude module radar total united_states combat tested december earth produced capabilities company stage model thrust billion rocket systems cabin january missiles planned oxygen price equipment flew nuclear industry april stated design reported increased year software\n"
     ]
    }
   ],
   "source": [
    "print(topics_keys_mallet[39])\n",
    "print(topics_keys_ctm[46])"
   ]
  }
 ],
 "metadata": {
  "kernelspec": {
   "display_name": "Python 3",
   "language": "python",
   "name": "python3"
  },
  "language_info": {
   "codemirror_mode": {
    "name": "ipython",
    "version": 3
   },
   "file_extension": ".py",
   "mimetype": "text/x-python",
   "name": "python",
   "nbconvert_exporter": "python",
   "pygments_lexer": "ipython3",
   "version": "3.9.6"
  }
 },
 "nbformat": 4,
 "nbformat_minor": 2
}
