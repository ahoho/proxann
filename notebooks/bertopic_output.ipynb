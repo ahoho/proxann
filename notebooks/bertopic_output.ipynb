{
 "cells": [
  {
   "cell_type": "code",
   "execution_count": 1,
   "id": "a6843e16-f6f5-461c-84d1-24beb48aef28",
   "metadata": {
    "tags": []
   },
   "outputs": [],
   "source": [
    "import pathlib\n",
    "import numpy as np"
   ]
  },
  {
   "cell_type": "code",
   "execution_count": 2,
   "id": "4a8d8324-9f6b-4ca6-bf4b-6fbc94685bbe",
   "metadata": {
    "tags": []
   },
   "outputs": [],
   "source": [
    "root_model_path = \"/export/usuarios_ml4ds/lbartolome/Repos/umd/theta-evaluation/data/models/trained/\"\n",
    "bertopic_models = [\n",
    "    \"bertopic_wiki_50_ctm_emb\",\n",
    "    \"bertopic_wiki_50_bert_dft_emb\",\n",
    "    \"bertopic_wiki_50_ctm_emb_pre\",\n",
    "    \"bertopic_wiki_50_bert_dft_emb_pre\"\n",
    "]"
   ]
  },
  {
   "cell_type": "markdown",
   "id": "1651a97e-2942-4b99-ac86-1afa86d66bb2",
   "metadata": {},
   "source": [
    "| Model Name                        | Text Preprocessing | Embedding Model                 |\n",
    "|-----------------------------------|--------------------|---------------------------------|\n",
    "| **bertopic_wiki_50_ctm_emb**      | No                 | multi-qa-mpnet-base-dot-v1      |\n",
    "| **bertopic_wiki_50_bert_dft_emb** | No                 | all-MiniLM-L6-v2                |\n",
    "| **bertopic_wiki_50_ctm_emb_pre**  | Yes                | multi-qa-mpnet-base-dot-v1      |\n",
    "| **bertopic_wiki_50_bert_dft_emb_pre** | Yes            | all-MiniLM-L6-v2                |"
   ]
  },
  {
   "cell_type": "code",
   "execution_count": 5,
   "id": "19b376d5-9bee-4f6b-a394-84a39ffd645a",
   "metadata": {
    "tags": []
   },
   "outputs": [
    {
     "name": "stdout",
     "output_type": "stream",
     "text": [
      "######################################################################################################################################################\n",
      "-- -- Model: bertopic_wiki_50_ctm_emb -- --\n",
      "Topic 0: the of and in to was on that as for by with his he it\n",
      "Topic 1: episode that the to and her series of he was it she is in season\n",
      "Topic 2: song album on the it music and video of that chart number her was with\n",
      "Topic 3: ship she ships was guns the her in fleet were of mm and on to\n",
      "Topic 4: game the and to of games player as that in is for by released was\n",
      "Topic 5: highway road route us md state sr north county the east through of freeway interchange\n",
      "Topic 6: storm tropical hurricane winds km depression cyclone on mph damage the of september rainfall were\n",
      "Topic 7: species are is and in the of or to have it has as shark from\n",
      "Topic 8: of his the to in he and was by as that with king had from\n",
      "Topic 9: the of and in river is to park city creek was by building from as\n",
      "Topic 10: he his season in league runs the team for was against with innings and to\n",
      "Topic 11: he his in of was the to and on war at for had as with\n",
      "Topic 12: he in to his of the party and was for election that as on had\n",
      "Topic 13: the of to british french and battle army his had was were in by at\n",
      "Topic 14: is of are the and in or be to as that can formula for by\n",
      "Topic 15: castle the of and in was church by century to is station built from it\n",
      "Topic 16: film and the of in to his was as he that for by with is\n",
      "Topic 17: episode the and film show disney to of as in for that on he was\n",
      "Topic 18: match championship wrestling wwe tag team on the event raw defeated tna title and to\n",
      "Topic 19: of in and the to that as for scientology book by with was is its\n",
      "Topic 20: of the is in his poem and to bach as that he by it with\n",
      "Topic 21: battalion division brigade the infantry regiment of were to army and was in war on\n",
      "Topic 22: in olympics she olympic won the team at games federer athletes open medal round world\n",
      "Topic 23: race oxford cambridge boat blues lengths rowed rowing crews crew races thames the won rower\n",
      "Topic 24: horses breed horse the in and breeds are of to is dog spaniel was as\n",
      "Topic 25: aircraft the air to was engine in and were of with flight for wing at\n",
      "Topic 26: film the and bond to that of as in was it for with is on\n",
      "Topic 27: line trains station oslo the to class railway locomotives tunnel and train was nsb were\n",
      "Topic 28: tech game yards the team bowl touchdown season michigan first virginia quarter state football in\n",
      "Topic 29: lap race drivers car schumacher laps prix pit the his second position points driver ahead\n",
      "Topic 30: she her film in role and for was the of as to with that he\n",
      "Topic 31: ride coaster roller train riders park the cedar track flags coasters trains lift is steel\n",
      "Topic 32: mosque the temple of is museum and in wall by to palace hall are was\n",
      "Topic 33: no squadron raaf wing air flying training aircraft squadrons area unit command australian and force\n",
      "Topic 34: scotland of island the scottish and in century is islands are by to were from\n",
      "Topic 35: chess fischer fight his he in round the to tournament was ufc and carlsen of\n",
      "Topic 36: court amendment of the to or states that constitution rights be law in by and\n",
      "Topic 37: phillies game series inning sox yankees league the mets season games in baseball home red\n",
      "Topic 38: apollo spacecraft mission space nasa launch lunar the flight orbit crew to module moon landing\n",
      "Topic 39: church synagogue christian of christ baptism churches the in god congregation and eddy spirit rabbi\n",
      "Topic 40: herg tintin adventures story haddock the le of calculus that he in his to was\n",
      "Topic 41: contest eurovision song broadcaster countries the 2014 ebu final semifinal in wurst jury country to\n",
      "Topic 42: singapore law or court of parliament be to the constitution that article is public any\n",
      "Topic 43: motorway croatia adriatic croatian zagreb rijeka the route of toll traffic and are is section\n",
      "Topic 44: lighthouse light tower lantern keeper was the point is in bulb of and constructed connecticut\n",
      "Topic 45: clark lex smallville lana chloe lionel season lois that welling luthor to series her his\n",
      "Topic 46: grammy best music awards award rap soul for category album hawaiian presented video performance artists\n",
      "Topic 47: angelou her poems poetry poem she autobiographies volume and houle of diiie caged poet autobiography\n",
      "Topic 48: euro banknotes coins currency note notes eurozone bank european the banknote of puerto value currencies\n",
      "Topic 49: nba rockets team lakers season blazers games the players finals in playoffs to houston lockout\n",
      "\n",
      "\n",
      "######################################################################################################################################################\n",
      "-- -- Model: bertopic_wiki_50_bert_dft_emb -- --\n",
      "Topic 0: the of and in to was on as for that by with it is at\n",
      "Topic 1: episode that the to and her series she it of he is was in season\n",
      "Topic 2: ship was she the guns in were ships of to and on her fleet mm\n",
      "Topic 3: song album the on music it and of video chart that number her in with\n",
      "Topic 4: game the and to of games player as in that is for by released was\n",
      "Topic 5: highway road route us md state sr north county the east through of interchange freeway\n",
      "Topic 6: storm tropical hurricane winds km depression on mph cyclone damage the of september rainfall in\n",
      "Topic 7: species are is and in the of or to shark have it has as from\n",
      "Topic 8: of the castle to and was his in british french by had he at were\n",
      "Topic 9: season he game league in the his team games with for to and first was\n",
      "Topic 10: the battalion of was brigade to in division and he war on his at were\n",
      "Topic 11: of the his to and in he was by army that had with as were\n",
      "Topic 12: he in his to of the party and was for election that as on governor\n",
      "Topic 13: in the he at match his team test innings australia cricket for and runs against\n",
      "Topic 14: film the and in to of as was for that films her with he it\n",
      "Topic 15: match championship wrestling wwe tag team event on the tna defeated and in to raw\n",
      "Topic 16: the church station of and was in to railway is by from london st at\n",
      "Topic 17: ride park the coaster and of roller train in to new building city is street\n",
      "Topic 18: that and to of in the her was she he had women for his on\n",
      "Topic 19: film and the in of to his as was is india for that with he\n",
      "Topic 20: chinese of the and to in china was han his as that were by for\n",
      "Topic 21: episode show spongebob the and simpsons he to in cartman of as is his on\n",
      "Topic 22: horses breed horse the in and breeds are of to is spaniel was as for\n",
      "Topic 23: of the to and in his he was de by that as government with were\n",
      "Topic 24: race oxford cambridge boat blues lengths crews rowed crew rowing races thames the won rower\n",
      "Topic 25: painting the art of in and memorial to museum by was is as memorials for\n",
      "Topic 26: creek river the of watershed is dam and in are mountain water feet lake area\n",
      "Topic 27: food and is in burger of the to as with chicken are or that company\n",
      "Topic 28: poem of his the and poems is in that to poetry he as poe it\n",
      "Topic 29: line trains oslo station motorway the and to of tunnel nsb norwegian croatia is in\n",
      "Topic 30: bach the cantata of is in text codex and movement by chorale bwv for jesus\n",
      "Topic 31: lap race drivers laps car pit the position schumacher second points his busch ahead lead\n",
      "Topic 32: the temple of mosque is monastery in wall and to church by was are it\n",
      "Topic 33: herg tintin comics of stories the in story and magazine his adventures to comic he\n",
      "Topic 34: formula is of be function the are can impedance this to in matrix vector that\n",
      "Topic 35: court singapore or law of the to that amendment be constitution not act in states\n",
      "Topic 36: is of that or and plants the are to as be in god conscience evolution\n",
      "Topic 37: twitter ubs in company investment bank and to billion ifc of mckinsey million its the\n",
      "Topic 38: of scotland island the islands and in century is scottish orkney shetland are were hebrides\n",
      "Topic 39: spacecraft mission apollo space nasa launch orbit lunar the crew module to earth flight of\n",
      "Topic 40: church synagogue of baptism christ the congregation in and new movement god churches age israel\n",
      "Topic 41: language languages are english is or words of word and in as the verb vowel\n",
      "Topic 42: bay texas galveston gulfton city houston amarillo the area bellaire of and in is to\n",
      "Topic 43: scientology hubbard church that to of he the sara and in had his was anonymous\n",
      "Topic 44: contest eurovision song broadcaster countries the final 2014 ebu semifinal in wurst jury country to\n",
      "Topic 45: lighthouse light island tower keeper lantern the was is of in connecticut and point constructed\n",
      "Topic 46: clark lex smallville lana chloe lionel season lois that welling luthor to series her his\n",
      "Topic 47: georgia tech research school buford students engineering university ees gtri in of atlanta and the\n",
      "Topic 48: liquid metals alkali is are phase molecules of phases crystal electron the metal elements can\n",
      "Topic 49: implant implants crinoline bone bovet embroidery or of the in and sprang to pulvermacher dental\n",
      "\n",
      "\n",
      "######################################################################################################################################################\n",
      "-- -- Model: bertopic_wiki_50_ctm_emb_pre -- --\n",
      "Topic 0: song album time new years film number year later war world music said second including\n",
      "Topic 1: song album music video number chart madonna single songs track band released tour performed release\n",
      "Topic 2: episode series season mulder doctor character scully viewers television episodes michael broadcast jack scene said\n",
      "Topic 3: ship ships guns tons german torpedo fleet inch war gun class knots cruiser long british\n",
      "Topic 4: game player games released players series gameplay characters version release character video original development playstation\n",
      "Topic 5: highway route road north state east interchange freeway intersection south street terminus west continues lane\n",
      "Topic 6: storm tropical hurricane winds depression cyclone mph damage rainfall september system landfall wind august flooding\n",
      "Topic 7: species shark genus found cap sharks brown fruit females eggs long known small white prey\n",
      "Topic 8: team season match games game career league championship won nba baseball points year player basketball\n",
      "Topic 9: election government campaign political president party said public state years vote support later bush republican\n",
      "Topic 10: city building area park river creek feet bridge water watershed located built construction dam miles\n",
      "Topic 11: war hitler governor general commander command later served german officer lieutenant military massachusetts died appointed\n",
      "Topic 12: king son emperor death army arab polish died reign royal military according father government henry\n",
      "Topic 13: aircraft ride line train trains engine coaster station speed flight air roller service wing built\n",
      "Topic 14: film films role bond production movie disney character cast million director released said story actor\n",
      "Topic 15: castle church century built station building tower south north site castles buildings road london west\n",
      "Topic 16: film chinese india tamil films government million indian china indonesian party telugu said hindi role\n",
      "Topic 17: british french battle army troops men persian fleet force forces ships general attack command militia\n",
      "Topic 18: battalion brigade division regiment war units training infantry squadron unit battalions forces force german command\n",
      "Topic 19: episode simpsons southpark series episodes season television voice character parker animated said homer characters stan\n",
      "Topic 20: formula function example plants language space system use tree theory defined plant liquid constant surface\n",
      "Topic 21: episode trek enterprise star series crew season space mission spacecraft voyager episodes apollo generation nasa\n",
      "Topic 22: oxford race cambridge boat blues lengths rowing rowed crews crew rower races won thames held\n",
      "Topic 23: breed horses horse breeds dog breeding dogs arabian bred stud white riding stallion hair registered\n",
      "Topic 24: lap race drivers car laps pit driver second points position ahead session qualifying lead prix\n",
      "Topic 25: food wine company beer chicken bacon cheese product meat sandwich recipes fried ingredients dish dishes\n",
      "Topic 26: match event championship ring title undertaker wrestling heavyweight tag michaels matches wwe team defeated triple\n",
      "Topic 27: poem poems poetry poet published riley ode work shakespeare works book wrote play smart life\n",
      "Topic 28: yard yards game touchdown tech michigan quarter team season alabama pass bowl field offense play\n",
      "Topic 29: athletes olympics olympic games contest events event heat summer beijing seconds round medal athlete host\n",
      "Topic 30: bach text movement movements jesus gospel soprano hebrew aria john manuscripts bass leipzig alto matthew\n",
      "Topic 31: innings test wickets runs cricket match australia england wicket scored matches miller team bowling took\n",
      "Topic 32: comics story stories fiction magazine comic gay published issue science book series characters issues character\n",
      "Topic 33: scotland painting island scottish century islands houses architecture art built norse edinburgh isles building style\n",
      "Topic 34: temple mosque wall hall palace built king monastery site complex tomb image century shrine located\n",
      "Topic 35: phillies game season team games nba inning rockets series yankees teams home league players run\n",
      "Topic 36: amendment court law rights congress constitution states act state shall supremecourt clause courts declaration justices\n",
      "Topic 37: fischer chess fight round tournament match champion won boxing hughes title bout black robinson world\n",
      "Topic 38: twitter bank billion investment company firm management million equity watson business banking users merger assets\n",
      "Topic 39: congregation baptism church christ churches spirit holy jewish congregations building worship orthodox members jerusalem armenian\n",
      "Topic 40: painting works art white work paintings artist moore girl symphony swan abstract cover exhibition subject\n",
      "Topic 41: singapore law parliament article constitution judicial public minister court courts act review constitutional person justice\n",
      "Topic 42: ben island survivors shannon michael season character freighter charlotte miles lost plane bernard jack producers\n",
      "Topic 43: motorway croatia croatian adriatic toll route traffic section areas interchange rest adriaticsea interchanges kilometres construction\n",
      "Topic 44: lighthouse light tower keeper constructed lens concrete installed keepers replaced iron connecticut house restoration lamp\n",
      "Topic 45: sound audio speaker jackson bass frequency cables monster design low frequencies speakers enclosure product power\n",
      "Topic 46: grammy soul awards award category neo hawaiian music presented album rap artists nominees best categories\n",
      "Topic 47: clark season series character superman episode finale oliver comic relationship father television secret believes discovers\n",
      "Topic 48: euro coins currency note notes value dollar denominations silver issued countries puertorico circulation tender security\n",
      "Topic 49: season hills series cast mtv girls port viewers whitney premiered boyfriend finale seasons bad aired\n",
      "\n",
      "\n",
      "######################################################################################################################################################\n",
      "-- -- Model: bertopic_wiki_50_bert_dft_emb_pre -- --\n",
      "Topic 0: song album time number new film years music later year war video single city including\n",
      "Topic 1: episode series season character doctor mulder episodes television viewers scully scene broadcast said plot michael\n",
      "Topic 2: song album music video number chart madonna single songs track band harrison released tour performed\n",
      "Topic 3: ship guns ships tons inch torpedo german war class knots fleet gun cruiser long deck\n",
      "Topic 4: game player games released series players gameplay characters version release character original development video playstation\n",
      "Topic 5: storm tropical hurricane winds depression mph cyclone damage rainfall september system landfall wind august pressure\n",
      "Topic 6: highway road route north state east interchange freeway intersection south street west terminus continues lane\n",
      "Topic 7: species shark genus found cap fruit brown sharks birds white stem known long small fungus\n",
      "Topic 8: british french army battle troops men forces fleet war force command ships general persian sent\n",
      "Topic 9: season game team games league yard career nba baseball points record home player runs played\n",
      "Topic 10: film chinese india han china government films indian tamil emperor million temple hindu indonesian party\n",
      "Topic 11: match innings test runs australia team wickets cricket won england matches scored olympics games wicket\n",
      "Topic 12: oxford cambridge race station boat line railway trains river blues london services lengths crews rowing\n",
      "Topic 13: aircraft battalion brigade division squadron regiment war wing training unit units air infantry flight service\n",
      "Topic 14: governor state election president campaign court republican bush law amendment senate federal democratic presidential political\n",
      "Topic 15: film films bond role disney production movie character story million batman released release director cast\n",
      "Topic 16: war hitler german aircraft general later fighter military officer world commander physics command germany squadron\n",
      "Topic 17: match championship wrestling wwe event tag raw defeated ring title team smackdown triple won feud\n",
      "Topic 18: castle century church built building castles tower stone wall walls buildings south bailey north architecture\n",
      "Topic 19: king henry england son island edward death scotland died century bishop english royal islands isles\n",
      "Topic 20: episode southpark simpsons episodes series season parker voice television character animated homer said stan kenny\n",
      "Topic 21: ride coaster roller park building train riders chicago feet track steel opened tower trains construction\n",
      "Topic 22: government political president military spanish death cuba buenosaires city french support country members cuban state\n",
      "Topic 23: line trains station motorway oslo rail tunnel nok train croatia railway construction norwegian service speed\n",
      "Topic 24: creek watershed dam park feet area water mountain volcano lava volcanic flows miles river lake\n",
      "Topic 25: horses breed horse breeds dog breeding dogs stud arabian bred white stallion race hair registered\n",
      "Topic 26: lap race car drivers laps pit driver points second position ahead session qualifying lead ferrari\n",
      "Topic 27: poem poems poetry poet shakespeare published riley work ode play works literary wrote smart book\n",
      "Topic 28: election party labour government minister leader alberta leadership parliament political prime elected premier cabinet support\n",
      "Topic 29: bach text movement movements jesus gospel soprano aria bass john opera tenor composed manuscripts manuscript\n",
      "Topic 30: arab mosque muhammad syria government egypt ibn muslim political islamic israeli said syrian islam egyptian\n",
      "Topic 31: painting memorial art memorials museum war paintings artists work monument century works scottish painted portrait\n",
      "Topic 32: formula function theory example space newton plants matrix defined god evolution functions conscience constant linear\n",
      "Topic 33: comics story stories comic fiction magazine published book gay science strip characters lgbt series issue\n",
      "Topic 34: women book rights feminist russell children roosevelt movement feminism political american savage suffrage education stone\n",
      "Topic 35: food chicken bacon cheese meat recipes fried sandwich dish cuisine ingredients cooking dishes beef product\n",
      "Topic 36: city texas bay galveston area sandiego houston mobile population located spanish residents community school cooper\n",
      "Topic 37: fountain portland oregon sculpture building city library court art park statue public design designed mural\n",
      "Topic 38: twitter company users million business eddie products apollo product firm software marcus investment monster marketing\n",
      "Topic 39: church baptism congregation christ churches spirit god congregations holy jewish members worship israel building assemblies\n",
      "Topic 40: language languages english words word speakers linguistic communication vocabulary spoken czech speech ottawa use example\n",
      "Topic 41: spacecraft mission apollo nasa orbit launch space crew lunar flight earth missions saturn manned module\n",
      "Topic 42: singapore law parliament article constitution minister judicial court public courts malaysia act review constitutional person\n",
      "Topic 43: contest final song broadcaster countries semi jury country ireland points host participating greece entry announced\n",
      "Topic 44: lighthouse light tower keeper island constructed lens connecticut concrete installed keepers replaced house iron restoration\n",
      "Topic 45: church anonymous organization internet book ron told said miller members group site hole stated cruise\n",
      "Topic 46: clark season series character superman episode finale oliver comic relationship father television secret believes discovers\n",
      "Topic 47: liquid metals crystal molecules phase phases metal crystals electron elements surface properties compounds group element\n",
      "Topic 48: mould injection bone die casting machine metal dental cavity century watches process teeth wool screw\n",
      "Topic 49: tech research students atlanta georgia engineering school campus president faculty student football institute robinson technique\n",
      "\n",
      "\n"
     ]
    }
   ],
   "source": [
    "for model in bertopic_models:\n",
    "    print(\"###\" * 50)\n",
    "    print(f\"-- -- Model: {model} -- --\")\n",
    "    with (pathlib.Path(root_model_path) / model / \"tpc_descriptions.txt\").open('r', encoding='utf8') as fin:\n",
    "        tpc_descriptions = [el.strip() for el in fin.readlines()]\n",
    "        for tpc, keys in enumerate(tpc_descriptions):\n",
    "            print(f\"Topic {tpc}: {keys}\")\n",
    "    print(\"\\n\")"
   ]
  },
  {
   "cell_type": "code",
   "execution_count": 7,
   "id": "1b44beb3-a7cc-4885-afde-6bbc64d5a956",
   "metadata": {
    "tags": []
   },
   "outputs": [],
   "source": [
    "bertopic_model = \"/export/usuarios_ml4ds/lbartolome/Repos/umd/theta-evaluation/data/models/trained/bertopic_wiki_50_ctm_emb_pre/model.pickle\"\n",
    "path_to_data = \"/export/usuarios_ml4ds/lbartolome/Repos/umd/theta-evaluation/data/train.metadata.jsonl\""
   ]
  },
  {
   "cell_type": "code",
   "execution_count": 12,
   "id": "fd0bbd89-77ac-4fd2-9d76-2d658a66c6df",
   "metadata": {
    "tags": []
   },
   "outputs": [],
   "source": [
    "import pandas as pd\n",
    "df = pd.read_json(path_to_data, lines=True)\n",
    "\n",
    "train_data = [doc.split() for doc in df[\"tokenized_text\"]]\n",
    "texts = [\" \".join(doc) for doc in train_data]"
   ]
  },
  {
   "cell_type": "code",
   "execution_count": 6,
   "id": "a7ac3076-5636-4578-a1c4-252ae6c56dbf",
   "metadata": {
    "tags": []
   },
   "outputs": [],
   "source": [
    "import pickle\n",
    "with open(bertopic_model, 'rb') as f:\n",
    "    model = pickle.load(f)"
   ]
  },
  {
   "cell_type": "code",
   "execution_count": 14,
   "id": "824c4dd5-d1f8-439c-bdb7-cfbe97e818b1",
   "metadata": {
    "tags": []
   },
   "outputs": [
    {
     "name": "stderr",
     "output_type": "stream",
     "text": [
      "You try to use a model that was created with version 3.0.0.dev0, however, your version is 3.0.0. This might cause unexpected behavior or errors. In that case, try to update to the latest version.\n",
      "\n",
      "\n",
      "\n"
     ]
    }
   ],
   "source": [
    "from sentence_transformers import SentenceTransformer\n",
    "model.embedding_model = SentenceTransformer('multi-qa-mpnet-base-dot-v1')\n"
   ]
  },
  {
   "cell_type": "code",
   "execution_count": 15,
   "id": "361e469f-24d4-4b16-b493-094be4f15103",
   "metadata": {
    "tags": []
   },
   "outputs": [
    {
     "name": "stderr",
     "output_type": "stream",
     "text": [
      "  0%|          | 0/15 [00:04<?, ?it/s]\n"
     ]
    },
    {
     "ename": "AttributeError",
     "evalue": "'SentenceTransformer' object has no attribute 'embed_documents'",
     "output_type": "error",
     "traceback": [
      "\u001b[0;31m---------------------------------------------------------------------------\u001b[0m",
      "\u001b[0;31mAttributeError\u001b[0m                            Traceback (most recent call last)",
      "Cell \u001b[0;32mIn[15], line 1\u001b[0m\n\u001b[0;32m----> 1\u001b[0m thetas, _ \u001b[38;5;241m=\u001b[39m \u001b[43mmodel\u001b[49m\u001b[38;5;241;43m.\u001b[39;49m\u001b[43mapproximate_distribution\u001b[49m\u001b[43m(\u001b[49m\u001b[43mtexts\u001b[49m\u001b[43m,\u001b[49m\u001b[43m \u001b[49m\u001b[43muse_embedding_model\u001b[49m\u001b[38;5;241;43m=\u001b[39;49m\u001b[38;5;28;43;01mTrue\u001b[39;49;00m\u001b[43m)\u001b[49m\n",
      "File \u001b[0;32m~/.local/lib/python3.10/site-packages/bertopic/_bertopic.py:1213\u001b[0m, in \u001b[0;36mBERTopic.approximate_distribution\u001b[0;34m(self, documents, window, stride, min_similarity, batch_size, padding, use_embedding_model, calculate_tokens, separator)\u001b[0m\n\u001b[1;32m   1211\u001b[0m \u001b[38;5;66;03m# Calculate similarity between embeddings of token sets and the topics\u001b[39;00m\n\u001b[1;32m   1212\u001b[0m \u001b[38;5;28;01mif\u001b[39;00m use_embedding_model:\n\u001b[0;32m-> 1213\u001b[0m     embeddings \u001b[38;5;241m=\u001b[39m \u001b[38;5;28;43mself\u001b[39;49m\u001b[38;5;241;43m.\u001b[39;49m\u001b[43m_extract_embeddings\u001b[49m\u001b[43m(\u001b[49m\u001b[43mall_sentences\u001b[49m\u001b[43m,\u001b[49m\u001b[43m \u001b[49m\u001b[43mmethod\u001b[49m\u001b[38;5;241;43m=\u001b[39;49m\u001b[38;5;124;43m\"\u001b[39;49m\u001b[38;5;124;43mdocument\u001b[39;49m\u001b[38;5;124;43m\"\u001b[39;49m\u001b[43m,\u001b[49m\u001b[43m \u001b[49m\u001b[43mverbose\u001b[49m\u001b[38;5;241;43m=\u001b[39;49m\u001b[38;5;28;43;01mTrue\u001b[39;49;00m\u001b[43m)\u001b[49m\n\u001b[1;32m   1214\u001b[0m     similarity \u001b[38;5;241m=\u001b[39m cosine_similarity(embeddings, \u001b[38;5;28mself\u001b[39m\u001b[38;5;241m.\u001b[39mtopic_embeddings_[\u001b[38;5;28mself\u001b[39m\u001b[38;5;241m.\u001b[39m_outliers:])\n\u001b[1;32m   1216\u001b[0m \u001b[38;5;66;03m# Calculate similarity between c-TF-IDF of token sets and the topics\u001b[39;00m\n\u001b[1;32m   1217\u001b[0m \u001b[38;5;28;01melse\u001b[39;00m:\n",
      "File \u001b[0;32m~/.local/lib/python3.10/site-packages/bertopic/_bertopic.py:3293\u001b[0m, in \u001b[0;36mBERTopic._extract_embeddings\u001b[0;34m(self, documents, images, method, verbose)\u001b[0m\n\u001b[1;32m   3291\u001b[0m     embeddings \u001b[38;5;241m=\u001b[39m \u001b[38;5;28mself\u001b[39m\u001b[38;5;241m.\u001b[39membedding_model\u001b[38;5;241m.\u001b[39membed_words(words\u001b[38;5;241m=\u001b[39mdocuments, verbose\u001b[38;5;241m=\u001b[39mverbose)\n\u001b[1;32m   3292\u001b[0m \u001b[38;5;28;01melif\u001b[39;00m method \u001b[38;5;241m==\u001b[39m \u001b[38;5;124m\"\u001b[39m\u001b[38;5;124mdocument\u001b[39m\u001b[38;5;124m\"\u001b[39m:\n\u001b[0;32m-> 3293\u001b[0m     embeddings \u001b[38;5;241m=\u001b[39m \u001b[38;5;28;43mself\u001b[39;49m\u001b[38;5;241;43m.\u001b[39;49m\u001b[43membedding_model\u001b[49m\u001b[38;5;241;43m.\u001b[39;49m\u001b[43membed_documents\u001b[49m(documents, verbose\u001b[38;5;241m=\u001b[39mverbose)\n\u001b[1;32m   3294\u001b[0m \u001b[38;5;28;01melif\u001b[39;00m documents[\u001b[38;5;241m0\u001b[39m] \u001b[38;5;129;01mis\u001b[39;00m \u001b[38;5;28;01mNone\u001b[39;00m \u001b[38;5;129;01mand\u001b[39;00m images \u001b[38;5;129;01mis\u001b[39;00m \u001b[38;5;28;01mNone\u001b[39;00m:\n\u001b[1;32m   3295\u001b[0m     \u001b[38;5;28;01mraise\u001b[39;00m \u001b[38;5;167;01mValueError\u001b[39;00m(\u001b[38;5;124m\"\u001b[39m\u001b[38;5;124mMake sure to use an embedding model that can either embed documents\u001b[39m\u001b[38;5;124m\"\u001b[39m\n\u001b[1;32m   3296\u001b[0m                      \u001b[38;5;124m\"\u001b[39m\u001b[38;5;124mor images depending on which you want to embed.\u001b[39m\u001b[38;5;124m\"\u001b[39m)\n",
      "File \u001b[0;32m~/.local/lib/python3.10/site-packages/torch/nn/modules/module.py:1269\u001b[0m, in \u001b[0;36mModule.__getattr__\u001b[0;34m(self, name)\u001b[0m\n\u001b[1;32m   1267\u001b[0m     \u001b[38;5;28;01mif\u001b[39;00m name \u001b[38;5;129;01min\u001b[39;00m modules:\n\u001b[1;32m   1268\u001b[0m         \u001b[38;5;28;01mreturn\u001b[39;00m modules[name]\n\u001b[0;32m-> 1269\u001b[0m \u001b[38;5;28;01mraise\u001b[39;00m \u001b[38;5;167;01mAttributeError\u001b[39;00m(\u001b[38;5;124m\"\u001b[39m\u001b[38;5;124m'\u001b[39m\u001b[38;5;132;01m{}\u001b[39;00m\u001b[38;5;124m'\u001b[39m\u001b[38;5;124m object has no attribute \u001b[39m\u001b[38;5;124m'\u001b[39m\u001b[38;5;132;01m{}\u001b[39;00m\u001b[38;5;124m'\u001b[39m\u001b[38;5;124m\"\u001b[39m\u001b[38;5;241m.\u001b[39mformat(\n\u001b[1;32m   1270\u001b[0m     \u001b[38;5;28mtype\u001b[39m(\u001b[38;5;28mself\u001b[39m)\u001b[38;5;241m.\u001b[39m\u001b[38;5;18m__name__\u001b[39m, name))\n",
      "\u001b[0;31mAttributeError\u001b[0m: 'SentenceTransformer' object has no attribute 'embed_documents'"
     ]
    }
   ],
   "source": [
    "thetas, _ = model.approximate_distribution(texts, use_embedding_model=True)"
   ]
  }
 ],
 "metadata": {
  "kernelspec": {
   "display_name": "prueba",
   "language": "python",
   "name": "prueba"
  },
  "language_info": {
   "codemirror_mode": {
    "name": "ipython",
    "version": 3
   },
   "file_extension": ".py",
   "mimetype": "text/x-python",
   "name": "python",
   "nbconvert_exporter": "python",
   "pygments_lexer": "ipython3",
   "version": "3.10.9"
  }
 },
 "nbformat": 4,
 "nbformat_minor": 5
}
