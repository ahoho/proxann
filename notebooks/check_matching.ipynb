{
 "cells": [
  {
   "cell_type": "code",
   "execution_count": 15,
   "metadata": {},
   "outputs": [],
   "source": [
    "# Matches: [(39, 46), (3, 6)]"
   ]
  },
  {
   "cell_type": "code",
   "execution_count": 16,
   "metadata": {},
   "outputs": [],
   "source": [
    "import pathlib\n",
    "path_mallet =  \"/Volumes/usuarios_ml4ds/lbartolome/Repos/umd/theta-evaluation/data/models/mallet\"\n",
    "path_ctm =  \"//Volumes/usuarios_ml4ds/lbartolome/Repos/umd/theta-evaluation/data/models/ctm\"\n",
    "\n",
    "\n",
    "with (pathlib.Path(path_mallet) / \"topics.txt\").open('r', encoding='utf8') as fin:\n",
    "    topics_keys_mallet = [el.strip() for el in fin.readlines()]\n",
    "    \n",
    "with (pathlib.Path(path_ctm) / \"topics.txt\").open('r', encoding='utf8') as fin:\n",
    "    topics_keys_ctm = [el.strip() for el in fin.readlines()]"
   ]
  },
  {
   "cell_type": "code",
   "execution_count": 23,
   "metadata": {},
   "outputs": [
    {
     "name": "stdout",
     "output_type": "stream",
     "text": [
      "law court act state government rights singapore case public legal constitution right amendment justice federal laws decision article power courts states cases parliament person bill held rule shall judicial minister order supreme_court speech united_states constitutional freedom section judge tax general review committee free legislation trial issue judges property powers official\n",
      "court act public law state rights case government right cases united_states courts decision singapore person held review legal states constitutional required appeal provisions subject article constitution section purpose judges non order free federal justice executive laws process jurisdiction requires members amendment powers apply shall human persons action provision clause information criminal question means judgment common freedom property specifically authority people certain statute purposes argued supreme_court necessary interest judicial applicable report effect provides bill opinion prevent judge limited exercise provided protection view congress power citizens scope passed legislation considered acts provide ensure issued judiciary decisions enacted personal involving actions parliament adopted\n"
     ]
    }
   ],
   "source": [
    "print(topics_keys_mallet[26])\n",
    "print(topics_keys_ctm[9])"
   ]
  },
  {
   "cell_type": "code",
   "execution_count": 18,
   "metadata": {},
   "outputs": [
    {
     "name": "stdout",
     "output_type": "stream",
     "text": [
      "british ships french ship fleet spanish island captain admiral naval port coast sea battle crew squadron command navy sailed dutch war gun sent vessels arrived action later aboard men fire line took captured returned islands force royal_navy expedition convoy ordered august britain commander june frigate october sailing vessel merchant france\n",
      "battle men army troops french command general british sent attack soldiers forces wounded killed commanded camp siege retreat captured advance garrison arrived aftermath retreated supplies expedition ordered casualties force fire cavalry capture americans fort losses militia colonel news arrival fought flank fleet advanced wars armies surrender action marched infantry continental_army commander captain orders withdrew artillery occupied reinforcements suffered howe companies new_york enemy led guard battles defeat engagement crossed washington persian frigate revolutionary austrians left assault sailed surrendered regiments raid marching rhine learned defenders retreating allies fight column invasion musket engaged eventually hms quebec surprise loyalist attempt taken frigates decided landed\n"
     ]
    }
   ],
   "source": [
    "print(topics_keys_mallet[1])\n",
    "print(topics_keys_ctm[43])"
   ]
  },
  {
   "cell_type": "code",
   "execution_count": 19,
   "metadata": {},
   "outputs": [
    {
     "name": "stdout",
     "output_type": "stream",
     "text": [
      "art painting museum work century collection works artists known artist design paintings created statue hair french painted image found seen including style sculpture public popular like memorial original world hand exhibition paris white period figures included large pieces use war tradition display designed number early history depicted piece portrait blue\n",
      "battle men army troops french command general british sent attack soldiers forces wounded killed commanded camp siege retreat captured advance garrison arrived aftermath retreated supplies expedition ordered casualties force fire cavalry capture americans fort losses militia colonel news arrival fought flank fleet advanced wars armies surrender action marched infantry continental_army commander captain orders withdrew artillery occupied reinforcements suffered howe companies new_york enemy led guard battles defeat engagement crossed washington persian frigate revolutionary austrians left assault sailed surrendered regiments raid marching rhine learned defenders retreating allies fight column invasion musket engaged eventually hms quebec surprise loyalist attempt taken frigates decided landed\n"
     ]
    }
   ],
   "source": [
    "print(topics_keys_mallet[38])\n",
    "print(topics_keys_ctm[43])"
   ]
  }
 ],
 "metadata": {
  "kernelspec": {
   "display_name": "Python 3",
   "language": "python",
   "name": "python3"
  },
  "language_info": {
   "codemirror_mode": {
    "name": "ipython",
    "version": 3
   },
   "file_extension": ".py",
   "mimetype": "text/x-python",
   "name": "python",
   "nbconvert_exporter": "python",
   "pygments_lexer": "ipython3",
   "version": "3.9.6"
  }
 },
 "nbformat": 4,
 "nbformat_minor": 2
}
