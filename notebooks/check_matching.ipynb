{
 "cells": [
  {
   "cell_type": "code",
   "execution_count": 1,
   "metadata": {},
   "outputs": [],
   "source": [
    "# Matches: [(39, 46), (3, 6)]"
   ]
  },
  {
   "cell_type": "code",
   "execution_count": 2,
   "metadata": {},
   "outputs": [],
   "source": [
    "import pathlib\n",
    "path_mallet =  \"/Volumes/usuarios_ml4ds/lbartolome/Repos/umd/theta-evaluation/data/models/mallet\"\n",
    "path_ctm =  \"//Volumes/usuarios_ml4ds/lbartolome/Repos/umd/theta-evaluation/data/models/ctm\"\n",
    "\n",
    "\n",
    "with (pathlib.Path(path_mallet) / \"topics.txt\").open('r', encoding='utf8') as fin:\n",
    "    topics_keys_mallet = [el.strip() for el in fin.readlines()]\n",
    "    \n",
    "with (pathlib.Path(path_ctm) / \"topics.txt\").open('r', encoding='utf8') as fin:\n",
    "    topics_keys_ctm = [el.strip() for el in fin.readlines()]"
   ]
  },
  {
   "cell_type": "code",
   "execution_count": 4,
   "metadata": {},
   "outputs": [
    {
     "name": "stdout",
     "output_type": "stream",
     "text": [
      "ship ships war german fleet guns tons british torpedo long class cruiser service italian mph august naval submarine boat knots world boats cruisers speed september admiral main laid germany thick launched battery sank crew squadron april november served later built october armored short july training attack commissioned june sunk ordered\n",
      "ship ships torpedo tons guns admiral cruiser fleet submarine sank laid sinking convoy german destroyer destroyers ordered boats damaged deck naval sunk knots escorted gun mounts repairs flagship torpedoes assigned stern shaft british flotilla vessels nautical escort transferred hms admiralty fire battleship aboard boilers cruisers beam hull convoys shipyard port malta april crew captain armament aft returning bow vessel horsepower sailed commissioned turbines french north_sea merchant royal_navy launched engagement submarines tubes range frigate escorting carried refit shipping inch displaced turrets kiel twin submerged engaged survivors warships wreck sms sea joined consisted battleships blockade departed fired maximum hipper thick sister returned\n"
     ]
    }
   ],
   "source": [
    "print(topics_keys_mallet[0])\n",
    "print(topics_keys_ctm[48])"
   ]
  },
  {
   "cell_type": "code",
   "execution_count": 6,
   "metadata": {},
   "outputs": [
    {
     "name": "stdout",
     "output_type": "stream",
     "text": [
      "british ships french ship fleet spanish island captain admiral naval port coast sea battle crew squadron command navy sailed dutch war gun sent vessels arrived action later aboard men fire line took captured returned islands force royal_navy expedition convoy ordered august britain commander june frigate october sailing vessel merchant france\n",
      "battle men army troops french command general british sent attack soldiers forces wounded killed commanded camp siege retreat captured advance garrison arrived aftermath retreated supplies expedition ordered casualties force fire cavalry capture americans fort losses militia colonel news arrival fought flank fleet advanced wars armies surrender action marched infantry continental_army commander captain orders withdrew artillery occupied reinforcements suffered howe companies new_york enemy led guard battles defeat engagement crossed washington persian frigate revolutionary austrians left assault sailed surrendered regiments raid marching rhine learned defenders retreating allies fight column invasion musket engaged eventually hms quebec surprise loyalist attempt taken frigates decided landed\n"
     ]
    }
   ],
   "source": [
    "print(topics_keys_mallet[1])\n",
    "print(topics_keys_ctm[43])"
   ]
  },
  {
   "cell_type": "code",
   "execution_count": 7,
   "metadata": {},
   "outputs": [
    {
     "name": "stdout",
     "output_type": "stream",
     "text": [
      "horse horses white breed dog black breeds dogs breeding known animals century riding type bred small early animal arabian stud including population sheep named registered long old zoo coat american world years year stallion history today pony inches modern popular found united_states genetic breeders considered developed called pounds stakes racing\n",
      "century known breed horses horse found popular island today breeds including period dog large early include small breeding food region modern islands europe wine population dogs established area especially bred use traditional seen tea quality plants leaves considered common european plant northern imported arabian brought years fried important native birds stud variety red scotland produce grown 19th areas cuisine generally present particularly southern species different meat park britain culture history chinese produced black old vegetables called english tradition stallion chicken 20th regions breeders earliest tree scottish usually water wild local spread cooked norse registered late herd coat created land ancient\n"
     ]
    }
   ],
   "source": [
    "print(topics_keys_mallet[2])\n",
    "print(topics_keys_ctm[11])"
   ]
  }
 ],
 "metadata": {
  "kernelspec": {
   "display_name": "Python 3",
   "language": "python",
   "name": "python3"
  },
  "language_info": {
   "codemirror_mode": {
    "name": "ipython",
    "version": 3
   },
   "file_extension": ".py",
   "mimetype": "text/x-python",
   "name": "python",
   "nbconvert_exporter": "python",
   "pygments_lexer": "ipython3",
   "version": "3.9.6"
  }
 },
 "nbformat": 4,
 "nbformat_minor": 2
}
