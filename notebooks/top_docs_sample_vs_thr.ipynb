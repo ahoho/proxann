{
 "cells": [
  {
   "cell_type": "markdown",
   "id": "6e6e08fa-d930-486a-9a76-5a02e736d848",
   "metadata": {},
   "source": [
    "# Top Docs for Wikipedia 50-topics models"
   ]
  },
  {
   "cell_type": "code",
   "execution_count": 109,
   "id": "d312e43b-b5c6-41ad-baea-cb3544c2c213",
   "metadata": {
    "tags": []
   },
   "outputs": [
    {
     "name": "stdout",
     "output_type": "stream",
     "text": [
      "doc_selector already in modules\n"
     ]
    }
   ],
   "source": [
    "import sys\n",
    "import os\n",
    "import pathlib\n",
    "import numpy as np\n",
    "import json\n",
    "import pandas as pd\n",
    "\n",
    "sys.path.append(os.path.abspath(os.path.join(os.getcwd(), '..')))\n",
    "\n",
    "if 'src.top_docs_selection.doc_selector' in sys.modules:\n",
    "    print(\"doc_selector already in modules\")\n",
    "    del sys.modules['src.top_docs_selection.doc_selector']\n",
    "\n",
    "from src.top_docs_selection.doc_selector import DocSelector"
   ]
  },
  {
   "cell_type": "code",
   "execution_count": 110,
   "id": "e6c9dee3-969a-4614-97b2-03b34d47870b",
   "metadata": {},
   "outputs": [],
   "source": [
    "pd.set_option('display.max_colwidth', 100)\n",
    "pd.set_option('display.max_columns', None)\n",
    "pd.set_option('display.width', 1000)"
   ]
  },
  {
   "cell_type": "code",
   "execution_count": 111,
   "id": "fec46c2f-9842-4446-9793-6bb589a064f5",
   "metadata": {},
   "outputs": [],
   "source": [
    "def load_model_info(model_path):\n",
    "    if model_path.stem == \"mallet\":\n",
    "        thetas = np.load(model_path / \"doctopics.npz.npy\")\n",
    "        betas = np.load(model_path / \"beta.npy\")\n",
    "    elif model_path.stem == \"ctm\":\n",
    "        thetas = np.load(model_path / \"train.theta.npy\")\n",
    "        betas = np.load(model_path / \"beta.npy\")\n",
    "    else:\n",
    "        print(\"Model type not recognized\")\n",
    "        return\n",
    "    \n",
    "    with open(model_path / \"vocab.json\") as infile:\n",
    "        vocab_w2id = json.load(infile)\n",
    "    \n",
    "    bow = np.load(model_path / \"bow_mat.npy\")\n",
    "    \n",
    "    with (model_path / \"topics.txt\").open('r', encoding='utf8') as fin:\n",
    "        keys = [el.strip() for el in fin.readlines()]\n",
    "    \n",
    "    return thetas, betas, vocab_w2id, bow, keys\n",
    "\n",
    "def create_top_docs_dataframe(method, top_docs, df, keys, thetas):\n",
    "    return pd.DataFrame({\n",
    "        \"id_tpc\": range(len(thetas.T)),\n",
    "        \"keys\": keys,\n",
    "        **{f\"top doc {i+1}\": [df.text.iloc[top_docs[method][k][i]] for k in range(len(thetas.T))] for i in range(5)}\n",
    "    })"
   ]
  },
  {
   "cell_type": "code",
   "execution_count": 112,
   "id": "2ea16022-831f-4bfc-b1c5-6fe815e9e80c",
   "metadata": {
    "tags": []
   },
   "outputs": [],
   "source": [
    "mallet_path = pathlib.Path(\"/export/usuarios_ml4ds/lbartolome/Repos/umd/theta-evaluation/data/models/mallet\")\n",
    "ctm_path = pathlib.Path(\"/export/usuarios_ml4ds/lbartolome/Repos/umd/theta-evaluation/data/models/ctm\")\n",
    "path_save_tops = pathlib.Path(\"/export/usuarios_ml4ds/lbartolome/Repos/umd/theta-evaluation/data/top_docs\")\n",
    "corpus_path = pathlib.Path(\"/export/usuarios_ml4ds/lbartolome/Repos/umd/theta-evaluation/data/train.metadata.jsonl\")\n",
    "text_column = \"tokenized_text\""
   ]
  },
  {
   "cell_type": "code",
   "execution_count": 113,
   "id": "d5d700b1-70b6-4b4f-9756-bb1dd895f376",
   "metadata": {
    "tags": []
   },
   "outputs": [
    {
     "data": {
      "text/html": [
       "<div>\n",
       "<style scoped>\n",
       "    .dataframe tbody tr th:only-of-type {\n",
       "        vertical-align: middle;\n",
       "    }\n",
       "\n",
       "    .dataframe tbody tr th {\n",
       "        vertical-align: top;\n",
       "    }\n",
       "\n",
       "    .dataframe thead th {\n",
       "        text-align: right;\n",
       "    }\n",
       "</style>\n",
       "<table border=\"1\" class=\"dataframe\">\n",
       "  <thead>\n",
       "    <tr style=\"text-align: right;\">\n",
       "      <th></th>\n",
       "      <th>id</th>\n",
       "      <th>text</th>\n",
       "      <th>supercategory</th>\n",
       "      <th>category</th>\n",
       "      <th>subcategory</th>\n",
       "      <th>page_name</th>\n",
       "      <th>tokenized_text</th>\n",
       "      <th>id_top</th>\n",
       "      <th>len</th>\n",
       "      <th>text_split</th>\n",
       "    </tr>\n",
       "  </thead>\n",
       "  <tbody>\n",
       "    <tr>\n",
       "      <th>0</th>\n",
       "      <td>2_CicelyMaryBarker</td>\n",
       "      <td>Cicely Mary Barker = Cicely Mary Barker ( 28 June 1895 – 16 February 1973 ) was an English illus...</td>\n",
       "      <td>Language and literature</td>\n",
       "      <td>Language and literature</td>\n",
       "      <td>Writers, publishers, and critics</td>\n",
       "      <td>Cicely Mary Barker</td>\n",
       "      <td>june february english illustrator best known series fantasy illustrations depicting flowers art ...</td>\n",
       "      <td>0</td>\n",
       "      <td>888</td>\n",
       "      <td>[june, february, english, illustrator, best, known, series, fantasy, illustrations, depicting, f...</td>\n",
       "    </tr>\n",
       "    <tr>\n",
       "      <th>1</th>\n",
       "      <td>210_GertrudeBarrowsBennett</td>\n",
       "      <td>Gertrude Barrows Bennett = Gertrude Barrows Bennett ( 1883 – 1948 ) was the first major female w...</td>\n",
       "      <td>Language and literature</td>\n",
       "      <td>Language and literature</td>\n",
       "      <td>Writers, publishers, and critics</td>\n",
       "      <td>Gertrude Barrows Bennett</td>\n",
       "      <td>major female writer fantasy science fiction united_states publishing stories pseudonym bennett w...</td>\n",
       "      <td>1</td>\n",
       "      <td>502</td>\n",
       "      <td>[major, female, writer, fantasy, science, fiction, united_states, publishing, stories, pseudonym...</td>\n",
       "    </tr>\n",
       "    <tr>\n",
       "      <th>2</th>\n",
       "      <td>470_MeraldaWarren</td>\n",
       "      <td>Meralda Warren = Meralda Elva Junior Warren ( born 28 June 1959 ) is an artist and poet of Pitca...</td>\n",
       "      <td>Language and literature</td>\n",
       "      <td>Language and literature</td>\n",
       "      <td>Writers, publishers, and critics</td>\n",
       "      <td>Meralda Warren</td>\n",
       "      <td>junior warren born june artist poet remote british overseas territory works english island disti...</td>\n",
       "      <td>2</td>\n",
       "      <td>412</td>\n",
       "      <td>[junior, warren, born, june, artist, poet, remote, british, overseas, territory, works, english,...</td>\n",
       "    </tr>\n",
       "    <tr>\n",
       "      <th>3</th>\n",
       "      <td>588_WilhelmBusch</td>\n",
       "      <td>Wilhelm Busch = Heinrich Christian Wilhelm Busch ( 15 April 1832 – 9 January 1908 ) was a German...</td>\n",
       "      <td>Language and literature</td>\n",
       "      <td>Language and literature</td>\n",
       "      <td>Writers, publishers, and critics</td>\n",
       "      <td>Wilhelm Busch</td>\n",
       "      <td>christian april january german poet illustrator painter published comic illustrated tales achiev...</td>\n",
       "      <td>3</td>\n",
       "      <td>2521</td>\n",
       "      <td>[christian, april, january, german, poet, illustrator, painter, published, comic, illustrated, t...</td>\n",
       "    </tr>\n",
       "    <tr>\n",
       "      <th>4</th>\n",
       "      <td>743_GabrielGarcíaMárquez</td>\n",
       "      <td>Gabriel García Márquez = Gabriel José de la Concordia García Márquez ( / ɡɑːrˈsiːə ˈmɑːrkɛs / ; ...</td>\n",
       "      <td>Language and literature</td>\n",
       "      <td>Language and literature</td>\n",
       "      <td>Writers, publishers, and critics</td>\n",
       "      <td>Gabriel García Márquez</td>\n",
       "      <td>american spanish march april novelist short story writer screenwriter journalist known latin_ame...</td>\n",
       "      <td>4</td>\n",
       "      <td>2241</td>\n",
       "      <td>[american, spanish, march, april, novelist, short, story, writer, screenwriter, journalist, know...</td>\n",
       "    </tr>\n",
       "  </tbody>\n",
       "</table>\n",
       "</div>"
      ],
      "text/plain": [
       "                           id                                                                                                 text            supercategory                 category                       subcategory                 page_name                                                                                       tokenized_text  id_top   len                                                                                           text_split\n",
       "0          2_CicelyMaryBarker  Cicely Mary Barker = Cicely Mary Barker ( 28 June 1895 – 16 February 1973 ) was an English illus...  Language and literature  Language and literature  Writers, publishers, and critics        Cicely Mary Barker  june february english illustrator best known series fantasy illustrations depicting flowers art ...       0   888  [june, february, english, illustrator, best, known, series, fantasy, illustrations, depicting, f...\n",
       "1  210_GertrudeBarrowsBennett  Gertrude Barrows Bennett = Gertrude Barrows Bennett ( 1883 – 1948 ) was the first major female w...  Language and literature  Language and literature  Writers, publishers, and critics  Gertrude Barrows Bennett  major female writer fantasy science fiction united_states publishing stories pseudonym bennett w...       1   502  [major, female, writer, fantasy, science, fiction, united_states, publishing, stories, pseudonym...\n",
       "2           470_MeraldaWarren  Meralda Warren = Meralda Elva Junior Warren ( born 28 June 1959 ) is an artist and poet of Pitca...  Language and literature  Language and literature  Writers, publishers, and critics            Meralda Warren  junior warren born june artist poet remote british overseas territory works english island disti...       2   412  [junior, warren, born, june, artist, poet, remote, british, overseas, territory, works, english,...\n",
       "3            588_WilhelmBusch  Wilhelm Busch = Heinrich Christian Wilhelm Busch ( 15 April 1832 – 9 January 1908 ) was a German...  Language and literature  Language and literature  Writers, publishers, and critics             Wilhelm Busch  christian april january german poet illustrator painter published comic illustrated tales achiev...       3  2521  [christian, april, january, german, poet, illustrator, painter, published, comic, illustrated, t...\n",
       "4    743_GabrielGarcíaMárquez  Gabriel García Márquez = Gabriel José de la Concordia García Márquez ( / ɡɑːrˈsiːə ˈmɑːrkɛs / ; ...  Language and literature  Language and literature  Writers, publishers, and critics    Gabriel García Márquez  american spanish march april novelist short story writer screenwriter journalist known latin_ame...       4  2241  [american, spanish, march, april, novelist, short, story, writer, screenwriter, journalist, know..."
      ]
     },
     "execution_count": 113,
     "metadata": {},
     "output_type": "execute_result"
    }
   ],
   "source": [
    "# Read documents\n",
    "df = pd.read_json(corpus_path, lines=True)\n",
    "\n",
    "df[\"id_top\"] = range(len(df))\n",
    "df[\"len\"] = df[text_column].apply(lambda x: len(x.split()))\n",
    "df[\"text_split\"] = df[text_column].apply(lambda x: x.split())\n",
    "corpus = df[\"text_split\"].values.tolist()\n",
    "df.head()"
   ]
  },
  {
   "cell_type": "code",
   "execution_count": 114,
   "id": "e71a7d36-39b2-4e98-90ab-906ef47a1c75",
   "metadata": {
    "tags": []
   },
   "outputs": [],
   "source": [
    "methods = ['thetas', 'thetas_sample', 'thetas_thr']#'sall', 'spart', 's3'\n",
    "n_top_words_s3 = 100\n",
    "n_top_docs = 5\n",
    "\n",
    "doc_selector = DocSelector()"
   ]
  },
  {
   "cell_type": "markdown",
   "id": "a8da3022-3bc1-4fa4-bfb2-09146b2af563",
   "metadata": {},
   "source": [
    "## Mallet"
   ]
  },
  {
   "cell_type": "code",
   "execution_count": 115,
   "id": "3b6fd8f0-c34f-4936-963c-3d2b319c16b0",
   "metadata": {
    "tags": []
   },
   "outputs": [],
   "source": [
    "thetas, betas, vocab_w2id, bow, keys = load_model_info(mallet_path)"
   ]
  },
  {
   "cell_type": "code",
   "execution_count": 116,
   "id": "82d91d36-6b4c-4c5b-8fae-6c19f838ad42",
   "metadata": {
    "tags": []
   },
   "outputs": [
    {
     "name": "stdout",
     "output_type": "stream",
     "text": [
      "Max/min thetas: 0.999596118927002 / 9.460147794015938e-07\n"
     ]
    }
   ],
   "source": [
    "max_thetas = np.max(thetas)\n",
    "min_thetas = np.min(thetas)\n",
    "print(f\"Max/min thetas: {max_thetas} / {min_thetas}\")\n",
    "thr = (0.5,0.9)"
   ]
  },
  {
   "cell_type": "code",
   "execution_count": 117,
   "id": "fcdcdb42-81db-4184-b05f-63399e870d8e",
   "metadata": {
    "tags": []
   },
   "outputs": [
    {
     "name": "stdout",
     "output_type": "stream",
     "text": [
      "####################################################################################################\n",
      "-- -- METHOD: thetas\n"
     ]
    },
    {
     "data": {
      "text/html": [
       "<div>\n",
       "<style scoped>\n",
       "    .dataframe tbody tr th:only-of-type {\n",
       "        vertical-align: middle;\n",
       "    }\n",
       "\n",
       "    .dataframe tbody tr th {\n",
       "        vertical-align: top;\n",
       "    }\n",
       "\n",
       "    .dataframe thead th {\n",
       "        text-align: right;\n",
       "    }\n",
       "</style>\n",
       "<table border=\"1\" class=\"dataframe\">\n",
       "  <thead>\n",
       "    <tr style=\"text-align: right;\">\n",
       "      <th></th>\n",
       "      <th>id_tpc</th>\n",
       "      <th>keys</th>\n",
       "      <th>top doc 1</th>\n",
       "      <th>top doc 2</th>\n",
       "      <th>top doc 3</th>\n",
       "      <th>top doc 4</th>\n",
       "      <th>top doc 5</th>\n",
       "    </tr>\n",
       "  </thead>\n",
       "  <tbody>\n",
       "    <tr>\n",
       "      <th>0</th>\n",
       "      <td>0</td>\n",
       "      <td>ship ships war german fleet guns tons british torpedo long class cruiser service italian mph aug...</td>\n",
       "      <td>Bremen-class cruiser = The Bremen class was a group of seven light cruisers built for the Imperi...</td>\n",
       "      <td>Italian battleship Emanuele Filiberto = The Emanuele Filiberto was a pre-dreadnought battleship ...</td>\n",
       "      <td>SMS Graudenz = SMS Graudenz was the lead ship of her class of light cruisers . She had one siste...</td>\n",
       "      <td>Graudenz-class cruiser = The Graudenz class of light cruisers was a class of two ships built for...</td>\n",
       "      <td>SMS Lübeck = SMS Lübeck ( \" His Majesty 's Ship Lübeck \" ) was the fourth of seven Bremen-class ...</td>\n",
       "    </tr>\n",
       "    <tr>\n",
       "      <th>1</th>\n",
       "      <td>1</td>\n",
       "      <td>british ships french ship fleet spanish island captain admiral naval port coast sea battle crew ...</td>\n",
       "      <td>Action of 15 July 1798 = The Action of 15 July 1798 was a minor naval battle of the French Revol...</td>\n",
       "      <td>Action of 7 May 1794 = The Action of 7 May 1794 was a minor naval action fought between a Britis...</td>\n",
       "      <td>Action of 10 April 1795 = The Action of 10 April 1795 was a minor naval engagement during the Fr...</td>\n",
       "      <td>Action of 21 October 1794 = The Action of 21 October 1794 was a minor naval engagement between G...</td>\n",
       "      <td>HMS Concorde ( 1783 ) = Concorde was a 32-gun frigate of the French Navy , lead ship of her clas...</td>\n",
       "    </tr>\n",
       "    <tr>\n",
       "      <th>2</th>\n",
       "      <td>2</td>\n",
       "      <td>horse horses white breed dog black breeds dogs breeding known animals century riding type bred s...</td>\n",
       "      <td>Welara = The Welara is a part-Arabian pony breed developed from the Arabian horse and the Welsh ...</td>\n",
       "      <td>Kentucky Mountain Saddle Horse = The Kentucky Mountain Saddle Horse is a horse breed from the US...</td>\n",
       "      <td>Blue Picardy Spaniel = The Blue Picardy Spaniel ( or Épagneul Bleu de Picardie ) is a breed of S...</td>\n",
       "      <td>Breton horse = The Breton is a breed of draft horse . It was developed in Brittany , a province ...</td>\n",
       "      <td>Missouri Fox Trotter = The Missouri Fox Trotter is a horse breed from the state of Missouri in t...</td>\n",
       "    </tr>\n",
       "    <tr>\n",
       "      <th>3</th>\n",
       "      <td>3</td>\n",
       "      <td>match australia runs test innings england cricket team wickets scored second matches took austra...</td>\n",
       "      <td>Ron Saggers with the Australian cricket team in England in 1948 = Ron Saggers was a member of Do...</td>\n",
       "      <td>Bill Brown with the Australian cricket team in England in 1948 = Bill Brown was a member of Dona...</td>\n",
       "      <td>Colin McCool with the Australian cricket team in England in 1948 = Colin McCool was a member of ...</td>\n",
       "      <td>Don Tallon with the Australian cricket team in England in 1948 = Don Tallon was a key member of ...</td>\n",
       "      <td>1948 Ashes series = The 1948 Ashes series was that year 's edition of the long-standing cricket ...</td>\n",
       "    </tr>\n",
       "  </tbody>\n",
       "</table>\n",
       "</div>"
      ],
      "text/plain": [
       "   id_tpc                                                                                                 keys                                                                                            top doc 1                                                                                            top doc 2                                                                                            top doc 3                                                                                            top doc 4                                                                                            top doc 5\n",
       "0       0  ship ships war german fleet guns tons british torpedo long class cruiser service italian mph aug...  Bremen-class cruiser = The Bremen class was a group of seven light cruisers built for the Imperi...  Italian battleship Emanuele Filiberto = The Emanuele Filiberto was a pre-dreadnought battleship ...  SMS Graudenz = SMS Graudenz was the lead ship of her class of light cruisers . She had one siste...  Graudenz-class cruiser = The Graudenz class of light cruisers was a class of two ships built for...  SMS Lübeck = SMS Lübeck ( \" His Majesty 's Ship Lübeck \" ) was the fourth of seven Bremen-class ...\n",
       "1       1  british ships french ship fleet spanish island captain admiral naval port coast sea battle crew ...  Action of 15 July 1798 = The Action of 15 July 1798 was a minor naval battle of the French Revol...  Action of 7 May 1794 = The Action of 7 May 1794 was a minor naval action fought between a Britis...  Action of 10 April 1795 = The Action of 10 April 1795 was a minor naval engagement during the Fr...  Action of 21 October 1794 = The Action of 21 October 1794 was a minor naval engagement between G...  HMS Concorde ( 1783 ) = Concorde was a 32-gun frigate of the French Navy , lead ship of her clas...\n",
       "2       2  horse horses white breed dog black breeds dogs breeding known animals century riding type bred s...  Welara = The Welara is a part-Arabian pony breed developed from the Arabian horse and the Welsh ...  Kentucky Mountain Saddle Horse = The Kentucky Mountain Saddle Horse is a horse breed from the US...  Blue Picardy Spaniel = The Blue Picardy Spaniel ( or Épagneul Bleu de Picardie ) is a breed of S...  Breton horse = The Breton is a breed of draft horse . It was developed in Brittany , a province ...  Missouri Fox Trotter = The Missouri Fox Trotter is a horse breed from the state of Missouri in t...\n",
       "3       3  match australia runs test innings england cricket team wickets scored second matches took austra...  Ron Saggers with the Australian cricket team in England in 1948 = Ron Saggers was a member of Do...  Bill Brown with the Australian cricket team in England in 1948 = Bill Brown was a member of Dona...  Colin McCool with the Australian cricket team in England in 1948 = Colin McCool was a member of ...  Don Tallon with the Australian cricket team in England in 1948 = Don Tallon was a key member of ...  1948 Ashes series = The 1948 Ashes series was that year 's edition of the long-standing cricket ..."
      ]
     },
     "metadata": {},
     "output_type": "display_data"
    },
    {
     "name": "stdout",
     "output_type": "stream",
     "text": [
      "\n",
      "\n",
      "####################################################################################################\n",
      "-- -- METHOD: thetas_sample\n"
     ]
    },
    {
     "data": {
      "text/html": [
       "<div>\n",
       "<style scoped>\n",
       "    .dataframe tbody tr th:only-of-type {\n",
       "        vertical-align: middle;\n",
       "    }\n",
       "\n",
       "    .dataframe tbody tr th {\n",
       "        vertical-align: top;\n",
       "    }\n",
       "\n",
       "    .dataframe thead th {\n",
       "        text-align: right;\n",
       "    }\n",
       "</style>\n",
       "<table border=\"1\" class=\"dataframe\">\n",
       "  <thead>\n",
       "    <tr style=\"text-align: right;\">\n",
       "      <th></th>\n",
       "      <th>id_tpc</th>\n",
       "      <th>keys</th>\n",
       "      <th>top doc 1</th>\n",
       "      <th>top doc 2</th>\n",
       "      <th>top doc 3</th>\n",
       "      <th>top doc 4</th>\n",
       "      <th>top doc 5</th>\n",
       "    </tr>\n",
       "  </thead>\n",
       "  <tbody>\n",
       "    <tr>\n",
       "      <th>0</th>\n",
       "      <td>0</td>\n",
       "      <td>ship ships war german fleet guns tons british torpedo long class cruiser service italian mph aug...</td>\n",
       "      <td>Jade-class aircraft carrier = The Jade class comprised a pair of passenger ships intended to be ...</td>\n",
       "      <td>SMS Kaiser ( 1874 ) = SMS Kaiser was the lead ship of the Kaiser-class ironclads ; SMS Deutschla...</td>\n",
       "      <td>Ammiraglio di Saint Bon-class battleship = The Ammiraglio di Saint Bon class was a pair of pre-d...</td>\n",
       "      <td>SMS Preussen ( 1873 ) = For the battleship of the same name , see SMS Preussen SMS Preussen was ...</td>\n",
       "      <td>SMS Regensburg = SMS Regensburg was a light cruiser of the Graudenz class built by the German Ka...</td>\n",
       "    </tr>\n",
       "    <tr>\n",
       "      <th>1</th>\n",
       "      <td>1</td>\n",
       "      <td>british ships french ship fleet spanish island captain admiral naval port coast sea battle crew ...</td>\n",
       "      <td>Bill King ( Royal Navy officer ) = Commander William Donald Aelian \" Bill \" King , DSO &amp; Bar , D...</td>\n",
       "      <td>Action of 20 October 1793 = The Action of 20 October 1793 was a minor naval engagement of the Fr...</td>\n",
       "      <td>Yorktown campaign = The Yorktown or Virginia campaign was a series of military maneuvers and bat...</td>\n",
       "      <td>HMS Alceste ( 1806 ) = HMS Alceste was a 38-gun frigate of the Royal Navy . She was built at Roc...</td>\n",
       "      <td>French battleship Bretagne = Bretagne was a battleship of the French Navy built in the 1910s , a...</td>\n",
       "    </tr>\n",
       "    <tr>\n",
       "      <th>2</th>\n",
       "      <td>2</td>\n",
       "      <td>horse horses white breed dog black breeds dogs breeding known animals century riding type bred s...</td>\n",
       "      <td>Haley Farm State Park = Haley Farm State Park is a Connecticut state park preserving Colonial-er...</td>\n",
       "      <td>Kerry Bog Pony = The Kerry Bog Pony is a mountain and moorland breed of pony that originated in ...</td>\n",
       "      <td>Russkiy Toy = The Russian Toy ( also known as the Russian Toy Terrier , and in Russia as the Rus...</td>\n",
       "      <td>Shetland sheep = The Shetland sheep is a small , wool-producing breed of sheep originating in th...</td>\n",
       "      <td>Bedlington Terrier = The Bedlington Terrier is a breed of small dog named after the mining town ...</td>\n",
       "    </tr>\n",
       "    <tr>\n",
       "      <th>3</th>\n",
       "      <td>3</td>\n",
       "      <td>match australia runs test innings england cricket team wickets scored second matches took austra...</td>\n",
       "      <td>Claire Taylor = Samantha Claire Taylor MBE ( born 25 September 1975 ) is a former cricketer who ...</td>\n",
       "      <td>Cameron White = Cameron Leon White ( born 18 August 1983 ) is an Australian cricketer for the Me...</td>\n",
       "      <td>Sydney punchbowls = The Sydney punchbowls , made in China during Emperor Chia Ch 'ing 's reign i...</td>\n",
       "      <td>Edward Sainsbury = Edward Sainsbury ( 5 July 1851 – 28 October 1930 ) was an English cricketer w...</td>\n",
       "      <td>Doug Ring = Douglas Thomas Ring ( 14 October 1918 – 23 June 2003 ) was an Australian cricketer w...</td>\n",
       "    </tr>\n",
       "  </tbody>\n",
       "</table>\n",
       "</div>"
      ],
      "text/plain": [
       "   id_tpc                                                                                                 keys                                                                                            top doc 1                                                                                            top doc 2                                                                                            top doc 3                                                                                            top doc 4                                                                                            top doc 5\n",
       "0       0  ship ships war german fleet guns tons british torpedo long class cruiser service italian mph aug...  Jade-class aircraft carrier = The Jade class comprised a pair of passenger ships intended to be ...  SMS Kaiser ( 1874 ) = SMS Kaiser was the lead ship of the Kaiser-class ironclads ; SMS Deutschla...  Ammiraglio di Saint Bon-class battleship = The Ammiraglio di Saint Bon class was a pair of pre-d...  SMS Preussen ( 1873 ) = For the battleship of the same name , see SMS Preussen SMS Preussen was ...  SMS Regensburg = SMS Regensburg was a light cruiser of the Graudenz class built by the German Ka...\n",
       "1       1  british ships french ship fleet spanish island captain admiral naval port coast sea battle crew ...  Bill King ( Royal Navy officer ) = Commander William Donald Aelian \" Bill \" King , DSO & Bar , D...  Action of 20 October 1793 = The Action of 20 October 1793 was a minor naval engagement of the Fr...  Yorktown campaign = The Yorktown or Virginia campaign was a series of military maneuvers and bat...  HMS Alceste ( 1806 ) = HMS Alceste was a 38-gun frigate of the Royal Navy . She was built at Roc...  French battleship Bretagne = Bretagne was a battleship of the French Navy built in the 1910s , a...\n",
       "2       2  horse horses white breed dog black breeds dogs breeding known animals century riding type bred s...  Haley Farm State Park = Haley Farm State Park is a Connecticut state park preserving Colonial-er...  Kerry Bog Pony = The Kerry Bog Pony is a mountain and moorland breed of pony that originated in ...  Russkiy Toy = The Russian Toy ( also known as the Russian Toy Terrier , and in Russia as the Rus...  Shetland sheep = The Shetland sheep is a small , wool-producing breed of sheep originating in th...  Bedlington Terrier = The Bedlington Terrier is a breed of small dog named after the mining town ...\n",
       "3       3  match australia runs test innings england cricket team wickets scored second matches took austra...  Claire Taylor = Samantha Claire Taylor MBE ( born 25 September 1975 ) is a former cricketer who ...  Cameron White = Cameron Leon White ( born 18 August 1983 ) is an Australian cricketer for the Me...  Sydney punchbowls = The Sydney punchbowls , made in China during Emperor Chia Ch 'ing 's reign i...  Edward Sainsbury = Edward Sainsbury ( 5 July 1851 – 28 October 1930 ) was an English cricketer w...  Doug Ring = Douglas Thomas Ring ( 14 October 1918 – 23 June 2003 ) was an Australian cricketer w..."
      ]
     },
     "metadata": {},
     "output_type": "display_data"
    },
    {
     "name": "stdout",
     "output_type": "stream",
     "text": [
      "\n",
      "\n",
      "####################################################################################################\n",
      "-- -- METHOD: thetas_thr\n"
     ]
    },
    {
     "data": {
      "text/html": [
       "<div>\n",
       "<style scoped>\n",
       "    .dataframe tbody tr th:only-of-type {\n",
       "        vertical-align: middle;\n",
       "    }\n",
       "\n",
       "    .dataframe tbody tr th {\n",
       "        vertical-align: top;\n",
       "    }\n",
       "\n",
       "    .dataframe thead th {\n",
       "        text-align: right;\n",
       "    }\n",
       "</style>\n",
       "<table border=\"1\" class=\"dataframe\">\n",
       "  <thead>\n",
       "    <tr style=\"text-align: right;\">\n",
       "      <th></th>\n",
       "      <th>id_tpc</th>\n",
       "      <th>keys</th>\n",
       "      <th>top doc 1</th>\n",
       "      <th>top doc 2</th>\n",
       "      <th>top doc 3</th>\n",
       "      <th>top doc 4</th>\n",
       "      <th>top doc 5</th>\n",
       "    </tr>\n",
       "  </thead>\n",
       "  <tbody>\n",
       "    <tr>\n",
       "      <th>0</th>\n",
       "      <td>0</td>\n",
       "      <td>ship ships war german fleet guns tons british torpedo long class cruiser service italian mph aug...</td>\n",
       "      <td>Italian ironclad Sardegna = Sardegna was the third of three Re Umberto-class ironclad battleship...</td>\n",
       "      <td>Italian battleship Napoli = Napoli was a Regina Elena-class pre-dreadnought battleship built for...</td>\n",
       "      <td>SM UB-3 = SM UB-3 was a German Type UB I submarine or U-boat in the German Imperial Navy ( Germa...</td>\n",
       "      <td>Italian cruiser Coatit = Coatit was a torpedo cruiser of the Italian Regia Marina built in the l...</td>\n",
       "      <td>German submarine U-42 ( 1939 ) = German submarine U-42 was a Type IXA U-boat of Nazi Germany 's ...</td>\n",
       "    </tr>\n",
       "    <tr>\n",
       "      <th>1</th>\n",
       "      <td>1</td>\n",
       "      <td>british ships french ship fleet spanish island captain admiral naval port coast sea battle crew ...</td>\n",
       "      <td>Action of 27 June 1798 = The Action of 27 June 1798 was a minor naval engagement between British...</td>\n",
       "      <td>Sunda Strait campaign of January 1794 = The Sunda Strait campaign of January 1794 was a series o...</td>\n",
       "      <td>Battle of Tellicherry = The Battle of Tellicherry was a naval action fought off the Indian port ...</td>\n",
       "      <td>Action of 18 August 1798 = The Action of 18 August 1798 was a minor naval engagement of the Fren...</td>\n",
       "      <td>Action of 16 October 1799 = The Action of 16 October 1799 was a minor naval engagement during th...</td>\n",
       "    </tr>\n",
       "    <tr>\n",
       "      <th>2</th>\n",
       "      <td>2</td>\n",
       "      <td>horse horses white breed dog black breeds dogs breeding known animals century riding type bred s...</td>\n",
       "      <td>Parson Russell Terrier = The Parson Russell Terrier is a breed of small white terrier that was t...</td>\n",
       "      <td>Shire horse = The Shire horse is a breed of draught horse ( BrE ) or draft horse ( AmE ) . The b...</td>\n",
       "      <td>Dølehest = The Dole Gudbrandsdal , Dølahest or Dole is a draft- and harness-type horse from Norw...</td>\n",
       "      <td>American Cocker Spaniel = The American Cocker Spaniel is a breed of sporting dog . It is a spani...</td>\n",
       "      <td>Colorado Ranger = The Colorado Ranger is a horse breed from the Colorado High Plains in the Unit...</td>\n",
       "    </tr>\n",
       "    <tr>\n",
       "      <th>3</th>\n",
       "      <td>3</td>\n",
       "      <td>match australia runs test innings england cricket team wickets scored second matches took austra...</td>\n",
       "      <td>Edward Sainsbury = Edward Sainsbury ( 5 July 1851 – 28 October 1930 ) was an English cricketer w...</td>\n",
       "      <td>Mick Harvey ( umpire ) = Clarence Edgar ( Mick ) Harvey , ( born 17 March 1921 at Newcastle , Ne...</td>\n",
       "      <td>Bill Johnston ( cricketer ) = William Arras Johnston ( 26 February 1922 – 25 May 2007 ) was an A...</td>\n",
       "      <td>Claire Taylor = Samantha Claire Taylor MBE ( born 25 September 1975 ) is a former cricketer who ...</td>\n",
       "      <td>Bob Willis = Robert George Dylan Willis MBE ( born Robert George Willis on 30 May 1949 ) , known...</td>\n",
       "    </tr>\n",
       "  </tbody>\n",
       "</table>\n",
       "</div>"
      ],
      "text/plain": [
       "   id_tpc                                                                                                 keys                                                                                            top doc 1                                                                                            top doc 2                                                                                            top doc 3                                                                                            top doc 4                                                                                            top doc 5\n",
       "0       0  ship ships war german fleet guns tons british torpedo long class cruiser service italian mph aug...  Italian ironclad Sardegna = Sardegna was the third of three Re Umberto-class ironclad battleship...  Italian battleship Napoli = Napoli was a Regina Elena-class pre-dreadnought battleship built for...  SM UB-3 = SM UB-3 was a German Type UB I submarine or U-boat in the German Imperial Navy ( Germa...  Italian cruiser Coatit = Coatit was a torpedo cruiser of the Italian Regia Marina built in the l...  German submarine U-42 ( 1939 ) = German submarine U-42 was a Type IXA U-boat of Nazi Germany 's ...\n",
       "1       1  british ships french ship fleet spanish island captain admiral naval port coast sea battle crew ...  Action of 27 June 1798 = The Action of 27 June 1798 was a minor naval engagement between British...  Sunda Strait campaign of January 1794 = The Sunda Strait campaign of January 1794 was a series o...  Battle of Tellicherry = The Battle of Tellicherry was a naval action fought off the Indian port ...  Action of 18 August 1798 = The Action of 18 August 1798 was a minor naval engagement of the Fren...  Action of 16 October 1799 = The Action of 16 October 1799 was a minor naval engagement during th...\n",
       "2       2  horse horses white breed dog black breeds dogs breeding known animals century riding type bred s...  Parson Russell Terrier = The Parson Russell Terrier is a breed of small white terrier that was t...  Shire horse = The Shire horse is a breed of draught horse ( BrE ) or draft horse ( AmE ) . The b...  Dølehest = The Dole Gudbrandsdal , Dølahest or Dole is a draft- and harness-type horse from Norw...  American Cocker Spaniel = The American Cocker Spaniel is a breed of sporting dog . It is a spani...  Colorado Ranger = The Colorado Ranger is a horse breed from the Colorado High Plains in the Unit...\n",
       "3       3  match australia runs test innings england cricket team wickets scored second matches took austra...  Edward Sainsbury = Edward Sainsbury ( 5 July 1851 – 28 October 1930 ) was an English cricketer w...  Mick Harvey ( umpire ) = Clarence Edgar ( Mick ) Harvey , ( born 17 March 1921 at Newcastle , Ne...  Bill Johnston ( cricketer ) = William Arras Johnston ( 26 February 1922 – 25 May 2007 ) was an A...  Claire Taylor = Samantha Claire Taylor MBE ( born 25 September 1975 ) is a former cricketer who ...  Bob Willis = Robert George Dylan Willis MBE ( born Robert George Willis on 30 May 1949 ) , known..."
      ]
     },
     "metadata": {},
     "output_type": "display_data"
    },
    {
     "name": "stdout",
     "output_type": "stream",
     "text": [
      "\n",
      "\n"
     ]
    }
   ],
   "source": [
    "top_docs = {\n",
    "    method: doc_selector.get_top_docs(method=method, thetas=thetas, bow=bow, betas=betas, corpus=corpus, vocab_w2id=vocab_w2id,thr=thr, top_words = None, ntop=n_top_docs, model_path=mallet_path)\n",
    "    for method in methods\n",
    "}\n",
    "\n",
    "for method in top_docs.keys():\n",
    "    print(\"##\" * 50)\n",
    "    print(f\"-- -- METHOD: {method}\")\n",
    "    df_method = create_top_docs_dataframe(method, top_docs, df, keys, thetas)\n",
    "    display(df_method.iloc[0:4])\n",
    "    (path_save_tops / mallet_path.name).mkdir(exist_ok=True)\n",
    "    this_path_save = path_save_tops / mallet_path.name / f\"{method}_top_docs.xlsx\"\n",
    "    df_method.to_excel(this_path_save, index=False)\n",
    "    print(\"\\n\")"
   ]
  },
  {
   "cell_type": "markdown",
   "id": "1a8d3651-7870-4e58-8548-d3ff338a0392",
   "metadata": {},
   "source": [
    "## CTM"
   ]
  },
  {
   "cell_type": "code",
   "execution_count": 118,
   "id": "7da25e03-c96e-4486-ad31-e0e9dd7de2b2",
   "metadata": {
    "tags": []
   },
   "outputs": [],
   "source": [
    "thetas, betas, vocab_w2id, bow, keys = load_model_info(ctm_path)"
   ]
  },
  {
   "cell_type": "code",
   "execution_count": 119,
   "id": "2520c81e-5a70-44db-bcda-f2be6b5b0dc1",
   "metadata": {},
   "outputs": [
    {
     "name": "stdout",
     "output_type": "stream",
     "text": [
      "Max/min thetas: 0.9954009354114532 / 1.8919544385198605e-05\n"
     ]
    }
   ],
   "source": [
    "max_thetas = np.max(thetas)\n",
    "min_thetas = np.min(thetas)\n",
    "print(f\"Max/min thetas: {max_thetas} / {min_thetas}\")\n",
    "thr = (0.5,0.9)"
   ]
  },
  {
   "cell_type": "code",
   "execution_count": 120,
   "id": "d67ffdd8-1418-45b0-ba62-5996bd6e258b",
   "metadata": {
    "tags": []
   },
   "outputs": [
    {
     "name": "stdout",
     "output_type": "stream",
     "text": [
      "####################################################################################################\n",
      "-- -- METHOD: thetas\n"
     ]
    },
    {
     "data": {
      "text/html": [
       "<div>\n",
       "<style scoped>\n",
       "    .dataframe tbody tr th:only-of-type {\n",
       "        vertical-align: middle;\n",
       "    }\n",
       "\n",
       "    .dataframe tbody tr th {\n",
       "        vertical-align: top;\n",
       "    }\n",
       "\n",
       "    .dataframe thead th {\n",
       "        text-align: right;\n",
       "    }\n",
       "</style>\n",
       "<table border=\"1\" class=\"dataframe\">\n",
       "  <thead>\n",
       "    <tr style=\"text-align: right;\">\n",
       "      <th></th>\n",
       "      <th>id_tpc</th>\n",
       "      <th>keys</th>\n",
       "      <th>top doc 1</th>\n",
       "      <th>top doc 2</th>\n",
       "      <th>top doc 3</th>\n",
       "      <th>top doc 4</th>\n",
       "      <th>top doc 5</th>\n",
       "    </tr>\n",
       "  </thead>\n",
       "  <tbody>\n",
       "    <tr>\n",
       "      <th>0</th>\n",
       "      <td>0</td>\n",
       "      <td>credits composition allmusic listing charts piano drums beats liner label recording download bal...</td>\n",
       "      <td>Oh Blue Christmas = Oh Blue Christmas is an EP by the American band A Fine Frenzy , released in ...</td>\n",
       "      <td>The Stripped Mixes = The Stripped Mixes ( released on CD for a limited time as The Motown 50 Mix...</td>\n",
       "      <td>A Different Kind of Love Song = \" A Different Kind of Love Song \" is a song by American recordin...</td>\n",
       "      <td>Electric ( Robyn song ) = \" Electric \" is a song by Swedish recording artist Robyn from her seco...</td>\n",
       "      <td>No Quiero Saber = \" No Quiero Saber \" is a song recorded by American recording artist Selena . I...</td>\n",
       "    </tr>\n",
       "    <tr>\n",
       "      <th>1</th>\n",
       "      <td>1</td>\n",
       "      <td>film release released million story scene scenes script effects production opening plot filming ...</td>\n",
       "      <td>Batman in film = The fictional character Batman , a comic book superhero featured in DC Comics p...</td>\n",
       "      <td>Toy Story 3 = Toy Story 3 is a 2010 American 3D computer-animated comedy-drama film , and the th...</td>\n",
       "      <td>Batman ( 1989 film ) = Batman is a 1989 American superhero film directed by Tim Burton and produ...</td>\n",
       "      <td>Toy Story 2 = Toy Story 2 is a 1999 American computer-animated comedy adventure film produced by...</td>\n",
       "      <td>Toy Story = Toy Story is a 1995 American computer-animated adventure buddy comedy film produced ...</td>\n",
       "    </tr>\n",
       "    <tr>\n",
       "      <th>2</th>\n",
       "      <td>2</td>\n",
       "      <td>career hit games season league baseball major_league_baseball signed home played manager profess...</td>\n",
       "      <td>Jon Lieber = Jonathan Ray Lieber ( born April 2 , 1970 ) is a former Major League Baseball ( MLB...</td>\n",
       "      <td>John Bowker ( baseball ) = John Brite Bowker ( born July 8 , 1983 ) is an American professional ...</td>\n",
       "      <td>Will Venable = William Dion Venable ( born October 29 , 1982 ) is an American professional baseb...</td>\n",
       "      <td>Eric Hacker = Eric Lynn Hacker ( born March 26 , 1983 ) is an American professional baseball pit...</td>\n",
       "      <td>Denny Bautista = Denny M. Bautista Germán ( born August 23 , 1980 ) is a Dominican professional ...</td>\n",
       "    </tr>\n",
       "    <tr>\n",
       "      <th>3</th>\n",
       "      <td>3</td>\n",
       "      <td>work life wrote writing published book written women works history world writer woman early book...</td>\n",
       "      <td>Feminism = Feminism is a range of political movements , ideologies , and social movements that s...</td>\n",
       "      <td>New Age = The New Age is a term applied to a range of spiritual or religious beliefs and practic...</td>\n",
       "      <td>Objections to evolution = Scholars , theologians and lay-people have raised objections to evolut...</td>\n",
       "      <td>Alfred North Whitehead = Alfred North Whitehead OM FRS ( 15 February 1861 – 30 December 1947 ) w...</td>\n",
       "      <td>Benjamin Lee Whorf = Benjamin Lee Whorf ( / wɔːrf / ; April 24 , 1897 – July 26 , 1941 ) was an ...</td>\n",
       "    </tr>\n",
       "  </tbody>\n",
       "</table>\n",
       "</div>"
      ],
      "text/plain": [
       "   id_tpc                                                                                                 keys                                                                                            top doc 1                                                                                            top doc 2                                                                                            top doc 3                                                                                            top doc 4                                                                                            top doc 5\n",
       "0       0  credits composition allmusic listing charts piano drums beats liner label recording download bal...  Oh Blue Christmas = Oh Blue Christmas is an EP by the American band A Fine Frenzy , released in ...  The Stripped Mixes = The Stripped Mixes ( released on CD for a limited time as The Motown 50 Mix...  A Different Kind of Love Song = \" A Different Kind of Love Song \" is a song by American recordin...  Electric ( Robyn song ) = \" Electric \" is a song by Swedish recording artist Robyn from her seco...  No Quiero Saber = \" No Quiero Saber \" is a song recorded by American recording artist Selena . I...\n",
       "1       1  film release released million story scene scenes script effects production opening plot filming ...  Batman in film = The fictional character Batman , a comic book superhero featured in DC Comics p...  Toy Story 3 = Toy Story 3 is a 2010 American 3D computer-animated comedy-drama film , and the th...  Batman ( 1989 film ) = Batman is a 1989 American superhero film directed by Tim Burton and produ...  Toy Story 2 = Toy Story 2 is a 1999 American computer-animated comedy adventure film produced by...  Toy Story = Toy Story is a 1995 American computer-animated adventure buddy comedy film produced ...\n",
       "2       2  career hit games season league baseball major_league_baseball signed home played manager profess...  Jon Lieber = Jonathan Ray Lieber ( born April 2 , 1970 ) is a former Major League Baseball ( MLB...  John Bowker ( baseball ) = John Brite Bowker ( born July 8 , 1983 ) is an American professional ...  Will Venable = William Dion Venable ( born October 29 , 1982 ) is an American professional baseb...  Eric Hacker = Eric Lynn Hacker ( born March 26 , 1983 ) is an American professional baseball pit...  Denny Bautista = Denny M. Bautista Germán ( born August 23 , 1980 ) is a Dominican professional ...\n",
       "3       3  work life wrote writing published book written women works history world writer woman early book...  Feminism = Feminism is a range of political movements , ideologies , and social movements that s...  New Age = The New Age is a term applied to a range of spiritual or religious beliefs and practic...  Objections to evolution = Scholars , theologians and lay-people have raised objections to evolut...  Alfred North Whitehead = Alfred North Whitehead OM FRS ( 15 February 1861 – 30 December 1947 ) w...  Benjamin Lee Whorf = Benjamin Lee Whorf ( / wɔːrf / ; April 24 , 1897 – July 26 , 1941 ) was an ..."
      ]
     },
     "metadata": {},
     "output_type": "display_data"
    },
    {
     "name": "stdout",
     "output_type": "stream",
     "text": [
      "\n",
      "\n",
      "####################################################################################################\n",
      "-- -- METHOD: thetas_sample\n"
     ]
    },
    {
     "data": {
      "text/html": [
       "<div>\n",
       "<style scoped>\n",
       "    .dataframe tbody tr th:only-of-type {\n",
       "        vertical-align: middle;\n",
       "    }\n",
       "\n",
       "    .dataframe tbody tr th {\n",
       "        vertical-align: top;\n",
       "    }\n",
       "\n",
       "    .dataframe thead th {\n",
       "        text-align: right;\n",
       "    }\n",
       "</style>\n",
       "<table border=\"1\" class=\"dataframe\">\n",
       "  <thead>\n",
       "    <tr style=\"text-align: right;\">\n",
       "      <th></th>\n",
       "      <th>id_tpc</th>\n",
       "      <th>keys</th>\n",
       "      <th>top doc 1</th>\n",
       "      <th>top doc 2</th>\n",
       "      <th>top doc 3</th>\n",
       "      <th>top doc 4</th>\n",
       "      <th>top doc 5</th>\n",
       "    </tr>\n",
       "  </thead>\n",
       "  <tbody>\n",
       "    <tr>\n",
       "      <th>0</th>\n",
       "      <td>0</td>\n",
       "      <td>credits composition allmusic listing charts piano drums beats liner label recording download bal...</td>\n",
       "      <td>F. Emasculata = \" F. Emasculata \" is the twenty-second episode of the second season of the Ameri...</td>\n",
       "      <td>The One I Love ( manga ) = The One I Love ( Japanese : わたしのすきなひと , Hepburn : Watashi no Sukinahi...</td>\n",
       "      <td>American Dream ( Casting Crowns song ) = \" American Dream \" is a song recorded by Christian rock...</td>\n",
       "      <td>Te Quiero ( Ricardo Arjona song ) = \" Te Quiero \" is a latin pop song by Guatemalan recording ar...</td>\n",
       "      <td>Somebody to Love ( 30 Rock ) = \" Somebody to Love \" is the sixth episode of the second season of...</td>\n",
       "    </tr>\n",
       "    <tr>\n",
       "      <th>1</th>\n",
       "      <td>1</td>\n",
       "      <td>film release released million story scene scenes script effects production opening plot filming ...</td>\n",
       "      <td>Halifax Central Library = The Halifax Central Library is a public library in Halifax , Nova Scot...</td>\n",
       "      <td>Arkham Asylum : A Serious House on Serious Earth = Arkham Asylum : A Serious House on Serious Ea...</td>\n",
       "      <td>Your and My Secret = Your and My Secret , known in Japan as lit . \" My and Her Three X 's \" ( Ja...</td>\n",
       "      <td>New Cutie Honey = New Cutie Honey ( Japanese : 新 ・ キューティーハニー , Hepburn : Shin Kyūtī Hanī , also ...</td>\n",
       "      <td>Equine nutrition = Equine nutrition is the feeding of horses , ponies , mules , donkeys , and ot...</td>\n",
       "    </tr>\n",
       "    <tr>\n",
       "      <th>2</th>\n",
       "      <td>2</td>\n",
       "      <td>career hit games season league baseball major_league_baseball signed home played manager profess...</td>\n",
       "      <td>Washington State Route 516 = State Route 516 ( SR 516 ) is a 16.49-mile-long ( 26.54 km ) state ...</td>\n",
       "      <td>Ice Box Chamberlain = Elton P. \" Ice Box \" Chamberlain ( November 5 , 1867 – September 22 , 1929...</td>\n",
       "      <td>Minnesota Golden Gophers men 's basketball = The Minnesota Golden Gophers men 's basketball team...</td>\n",
       "      <td>French battleship Vergniaud = Vergniaud was one of the six Danton class semi-dreadnought battles...</td>\n",
       "      <td>Moondance = Moondance is the third studio album by Northern Irish singer-songwriter Van Morrison...</td>\n",
       "    </tr>\n",
       "    <tr>\n",
       "      <th>3</th>\n",
       "      <td>3</td>\n",
       "      <td>work life wrote writing published book written women works history world writer woman early book...</td>\n",
       "      <td>Parliament Act 1911 = The Parliament Act 1911 is an Act of the Parliament of the United Kingdom ...</td>\n",
       "      <td>Dominica at the 2008 Summer Olympics = Dominica sent a delegation of eight people , including tw...</td>\n",
       "      <td>12 Days = 12 Days is a debut graphic novel / global manga written and illustrated by June Kim . ...</td>\n",
       "      <td>Third Epistle of John = The Third Epistle of John , often referred to as Third John and written ...</td>\n",
       "      <td>Delaware Route 58 = Delaware Route 58 ( DE 58 ) , also known as Churchmans Road , is a state hig...</td>\n",
       "    </tr>\n",
       "  </tbody>\n",
       "</table>\n",
       "</div>"
      ],
      "text/plain": [
       "   id_tpc                                                                                                 keys                                                                                            top doc 1                                                                                            top doc 2                                                                                            top doc 3                                                                                            top doc 4                                                                                            top doc 5\n",
       "0       0  credits composition allmusic listing charts piano drums beats liner label recording download bal...  F. Emasculata = \" F. Emasculata \" is the twenty-second episode of the second season of the Ameri...  The One I Love ( manga ) = The One I Love ( Japanese : わたしのすきなひと , Hepburn : Watashi no Sukinahi...  American Dream ( Casting Crowns song ) = \" American Dream \" is a song recorded by Christian rock...  Te Quiero ( Ricardo Arjona song ) = \" Te Quiero \" is a latin pop song by Guatemalan recording ar...  Somebody to Love ( 30 Rock ) = \" Somebody to Love \" is the sixth episode of the second season of...\n",
       "1       1  film release released million story scene scenes script effects production opening plot filming ...  Halifax Central Library = The Halifax Central Library is a public library in Halifax , Nova Scot...  Arkham Asylum : A Serious House on Serious Earth = Arkham Asylum : A Serious House on Serious Ea...  Your and My Secret = Your and My Secret , known in Japan as lit . \" My and Her Three X 's \" ( Ja...  New Cutie Honey = New Cutie Honey ( Japanese : 新 ・ キューティーハニー , Hepburn : Shin Kyūtī Hanī , also ...  Equine nutrition = Equine nutrition is the feeding of horses , ponies , mules , donkeys , and ot...\n",
       "2       2  career hit games season league baseball major_league_baseball signed home played manager profess...  Washington State Route 516 = State Route 516 ( SR 516 ) is a 16.49-mile-long ( 26.54 km ) state ...  Ice Box Chamberlain = Elton P. \" Ice Box \" Chamberlain ( November 5 , 1867 – September 22 , 1929...  Minnesota Golden Gophers men 's basketball = The Minnesota Golden Gophers men 's basketball team...  French battleship Vergniaud = Vergniaud was one of the six Danton class semi-dreadnought battles...  Moondance = Moondance is the third studio album by Northern Irish singer-songwriter Van Morrison...\n",
       "3       3  work life wrote writing published book written women works history world writer woman early book...  Parliament Act 1911 = The Parliament Act 1911 is an Act of the Parliament of the United Kingdom ...  Dominica at the 2008 Summer Olympics = Dominica sent a delegation of eight people , including tw...  12 Days = 12 Days is a debut graphic novel / global manga written and illustrated by June Kim . ...  Third Epistle of John = The Third Epistle of John , often referred to as Third John and written ...  Delaware Route 58 = Delaware Route 58 ( DE 58 ) , also known as Churchmans Road , is a state hig..."
      ]
     },
     "metadata": {},
     "output_type": "display_data"
    },
    {
     "name": "stdout",
     "output_type": "stream",
     "text": [
      "\n",
      "\n",
      "####################################################################################################\n",
      "-- -- METHOD: thetas_thr\n"
     ]
    },
    {
     "data": {
      "text/html": [
       "<div>\n",
       "<style scoped>\n",
       "    .dataframe tbody tr th:only-of-type {\n",
       "        vertical-align: middle;\n",
       "    }\n",
       "\n",
       "    .dataframe tbody tr th {\n",
       "        vertical-align: top;\n",
       "    }\n",
       "\n",
       "    .dataframe thead th {\n",
       "        text-align: right;\n",
       "    }\n",
       "</style>\n",
       "<table border=\"1\" class=\"dataframe\">\n",
       "  <thead>\n",
       "    <tr style=\"text-align: right;\">\n",
       "      <th></th>\n",
       "      <th>id_tpc</th>\n",
       "      <th>keys</th>\n",
       "      <th>top doc 1</th>\n",
       "      <th>top doc 2</th>\n",
       "      <th>top doc 3</th>\n",
       "      <th>top doc 4</th>\n",
       "      <th>top doc 5</th>\n",
       "    </tr>\n",
       "  </thead>\n",
       "  <tbody>\n",
       "    <tr>\n",
       "      <th>0</th>\n",
       "      <td>0</td>\n",
       "      <td>credits composition allmusic listing charts piano drums beats liner label recording download bal...</td>\n",
       "      <td>Cicely Mary Barker = Cicely Mary Barker ( 28 June 1895 – 16 February 1973 ) was an English illus...</td>\n",
       "      <td>Field hockey pitch = A hockey pitch is the playing surface for the game of field hockey . Histor...</td>\n",
       "      <td>Transport in the Soviet Union = Transport in the Union of Soviet Socialist Republics ( USSR ) wa...</td>\n",
       "      <td>Amy Wyatt = Amy Marie Violet Wyatt is a fictional character from the British soap opera Emmerdal...</td>\n",
       "      <td>Ivan Jones ( Emmerdale ) = Ivan Jones is a fictional character in the British soap opera Emmerda...</td>\n",
       "    </tr>\n",
       "    <tr>\n",
       "      <th>1</th>\n",
       "      <td>1</td>\n",
       "      <td>film release released million story scene scenes script effects production opening plot filming ...</td>\n",
       "      <td>Batman in film = The fictional character Batman , a comic book superhero featured in DC Comics p...</td>\n",
       "      <td>Jack Fingleton = John \" Jack \" Henry Webb Fingleton OBE ( 28 April 1908 – 22 November 1981 ) was...</td>\n",
       "      <td>Delhi Daredevils in 2012 = The Delhi Daredevils ( DD ) is a franchise cricket team based in Delh...</td>\n",
       "      <td>Curtly Ambrose = Sir Curtly Elconn Lynwall Ambrose , KCN ( born 21 September 1963 ) is a former ...</td>\n",
       "      <td>Irfan Pathan = Irfan Khan Pathan ( pronunciation ; born 27 October 1984 ) is an Indian cricketer...</td>\n",
       "    </tr>\n",
       "    <tr>\n",
       "      <th>2</th>\n",
       "      <td>2</td>\n",
       "      <td>career hit games season league baseball major_league_baseball signed home played manager profess...</td>\n",
       "      <td>Jon Lieber = Jonathan Ray Lieber ( born April 2 , 1970 ) is a former Major League Baseball ( MLB...</td>\n",
       "      <td>John Bowker ( baseball ) = John Brite Bowker ( born July 8 , 1983 ) is an American professional ...</td>\n",
       "      <td>Will Venable = William Dion Venable ( born October 29 , 1982 ) is an American professional baseb...</td>\n",
       "      <td>Eric Hacker = Eric Lynn Hacker ( born March 26 , 1983 ) is an American professional baseball pit...</td>\n",
       "      <td>Denny Bautista = Denny M. Bautista Germán ( born August 23 , 1980 ) is a Dominican professional ...</td>\n",
       "    </tr>\n",
       "    <tr>\n",
       "      <th>3</th>\n",
       "      <td>3</td>\n",
       "      <td>work life wrote writing published book written women works history world writer woman early book...</td>\n",
       "      <td>Cicely Mary Barker = Cicely Mary Barker ( 28 June 1895 – 16 February 1973 ) was an English illus...</td>\n",
       "      <td>Field hockey pitch = A hockey pitch is the playing surface for the game of field hockey . Histor...</td>\n",
       "      <td>Transport in the Soviet Union = Transport in the Union of Soviet Socialist Republics ( USSR ) wa...</td>\n",
       "      <td>Amy Wyatt = Amy Marie Violet Wyatt is a fictional character from the British soap opera Emmerdal...</td>\n",
       "      <td>Ivan Jones ( Emmerdale ) = Ivan Jones is a fictional character in the British soap opera Emmerda...</td>\n",
       "    </tr>\n",
       "  </tbody>\n",
       "</table>\n",
       "</div>"
      ],
      "text/plain": [
       "   id_tpc                                                                                                 keys                                                                                            top doc 1                                                                                            top doc 2                                                                                            top doc 3                                                                                            top doc 4                                                                                            top doc 5\n",
       "0       0  credits composition allmusic listing charts piano drums beats liner label recording download bal...  Cicely Mary Barker = Cicely Mary Barker ( 28 June 1895 – 16 February 1973 ) was an English illus...  Field hockey pitch = A hockey pitch is the playing surface for the game of field hockey . Histor...  Transport in the Soviet Union = Transport in the Union of Soviet Socialist Republics ( USSR ) wa...  Amy Wyatt = Amy Marie Violet Wyatt is a fictional character from the British soap opera Emmerdal...  Ivan Jones ( Emmerdale ) = Ivan Jones is a fictional character in the British soap opera Emmerda...\n",
       "1       1  film release released million story scene scenes script effects production opening plot filming ...  Batman in film = The fictional character Batman , a comic book superhero featured in DC Comics p...  Jack Fingleton = John \" Jack \" Henry Webb Fingleton OBE ( 28 April 1908 – 22 November 1981 ) was...  Delhi Daredevils in 2012 = The Delhi Daredevils ( DD ) is a franchise cricket team based in Delh...  Curtly Ambrose = Sir Curtly Elconn Lynwall Ambrose , KCN ( born 21 September 1963 ) is a former ...  Irfan Pathan = Irfan Khan Pathan ( pronunciation ; born 27 October 1984 ) is an Indian cricketer...\n",
       "2       2  career hit games season league baseball major_league_baseball signed home played manager profess...  Jon Lieber = Jonathan Ray Lieber ( born April 2 , 1970 ) is a former Major League Baseball ( MLB...  John Bowker ( baseball ) = John Brite Bowker ( born July 8 , 1983 ) is an American professional ...  Will Venable = William Dion Venable ( born October 29 , 1982 ) is an American professional baseb...  Eric Hacker = Eric Lynn Hacker ( born March 26 , 1983 ) is an American professional baseball pit...  Denny Bautista = Denny M. Bautista Germán ( born August 23 , 1980 ) is a Dominican professional ...\n",
       "3       3  work life wrote writing published book written women works history world writer woman early book...  Cicely Mary Barker = Cicely Mary Barker ( 28 June 1895 – 16 February 1973 ) was an English illus...  Field hockey pitch = A hockey pitch is the playing surface for the game of field hockey . Histor...  Transport in the Soviet Union = Transport in the Union of Soviet Socialist Republics ( USSR ) wa...  Amy Wyatt = Amy Marie Violet Wyatt is a fictional character from the British soap opera Emmerdal...  Ivan Jones ( Emmerdale ) = Ivan Jones is a fictional character in the British soap opera Emmerda..."
      ]
     },
     "metadata": {},
     "output_type": "display_data"
    },
    {
     "name": "stdout",
     "output_type": "stream",
     "text": [
      "\n",
      "\n"
     ]
    }
   ],
   "source": [
    "top_docs = {\n",
    "    method: doc_selector.get_top_docs(method=method, thetas=thetas, bow=bow, betas=betas, corpus=corpus, vocab_w2id=vocab_w2id,thr=thr, top_words = n_top_words_s3, ntop=n_top_docs, model_path=ctm_path)\n",
    "    for method in methods\n",
    "}\n",
    "\n",
    "for method in top_docs.keys():\n",
    "    print(\"##\" * 50)\n",
    "    print(f\"-- -- METHOD: {method}\")\n",
    "    df_method = create_top_docs_dataframe(method, top_docs, df, keys, thetas)\n",
    "    display(df_method.iloc[0:4])\n",
    "    (path_save_tops / ctm_path.name).mkdir(exist_ok=True)\n",
    "    this_path_save = path_save_tops / ctm_path.name / f\"{method}_top_docs.xlsx\"\n",
    "    df_method.to_excel(this_path_save, index=False)\n",
    "    print(\"\\n\")"
   ]
  }
 ],
 "metadata": {
  "kernelspec": {
   "display_name": "prueba",
   "language": "python",
   "name": "prueba"
  },
  "language_info": {
   "codemirror_mode": {
    "name": "ipython",
    "version": 3
   },
   "file_extension": ".py",
   "mimetype": "text/x-python",
   "name": "python",
   "nbconvert_exporter": "python",
   "pygments_lexer": "ipython3",
   "version": "3.10.9"
  }
 },
 "nbformat": 4,
 "nbformat_minor": 5
}
